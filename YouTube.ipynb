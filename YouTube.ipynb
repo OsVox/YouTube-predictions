{
  "cells": [
    {
      "cell_type": "markdown",
      "metadata": {
        "id": "view-in-github",
        "colab_type": "text"
      },
      "source": [
        "<a href=\"https://colab.research.google.com/github/OsVox/YouTube-predictions/blob/main/YouTube.ipynb\" target=\"_parent\"><img src=\"https://colab.research.google.com/assets/colab-badge.svg\" alt=\"Open In Colab\"/></a>"
      ]
    },
    {
      "cell_type": "markdown",
      "metadata": {
        "id": "el6gVgtSgiN3"
      },
      "source": [
        "# Importing modules"
      ]
    },
    {
      "cell_type": "code",
      "execution_count": 1,
      "metadata": {
        "id": "4A28O2_Xem5S",
        "colab": {
          "base_uri": "https://localhost:8080/"
        },
        "outputId": "eebdbd7b-b737-40f2-f53e-c56ac4d3aee9"
      },
      "outputs": [
        {
          "output_type": "stream",
          "name": "stdout",
          "text": [
            "Collecting tensorflow_text\n",
            "  Downloading tensorflow_text-2.7.3-cp37-cp37m-manylinux2010_x86_64.whl (4.9 MB)\n",
            "\u001b[K     |████████████████████████████████| 4.9 MB 8.6 MB/s \n",
            "\u001b[?25hRequirement already satisfied: tensorflow-hub>=0.8.0 in /usr/local/lib/python3.7/dist-packages (from tensorflow_text) (0.12.0)\n",
            "Requirement already satisfied: tensorflow<2.8,>=2.7.0 in /usr/local/lib/python3.7/dist-packages (from tensorflow_text) (2.7.0)\n",
            "Requirement already satisfied: tensorflow-io-gcs-filesystem>=0.21.0 in /usr/local/lib/python3.7/dist-packages (from tensorflow<2.8,>=2.7.0->tensorflow_text) (0.23.1)\n",
            "Requirement already satisfied: termcolor>=1.1.0 in /usr/local/lib/python3.7/dist-packages (from tensorflow<2.8,>=2.7.0->tensorflow_text) (1.1.0)\n",
            "Requirement already satisfied: protobuf>=3.9.2 in /usr/local/lib/python3.7/dist-packages (from tensorflow<2.8,>=2.7.0->tensorflow_text) (3.17.3)\n",
            "Requirement already satisfied: libclang>=9.0.1 in /usr/local/lib/python3.7/dist-packages (from tensorflow<2.8,>=2.7.0->tensorflow_text) (13.0.0)\n",
            "Requirement already satisfied: six>=1.12.0 in /usr/local/lib/python3.7/dist-packages (from tensorflow<2.8,>=2.7.0->tensorflow_text) (1.15.0)\n",
            "Requirement already satisfied: google-pasta>=0.1.1 in /usr/local/lib/python3.7/dist-packages (from tensorflow<2.8,>=2.7.0->tensorflow_text) (0.2.0)\n",
            "Requirement already satisfied: absl-py>=0.4.0 in /usr/local/lib/python3.7/dist-packages (from tensorflow<2.8,>=2.7.0->tensorflow_text) (1.0.0)\n",
            "Requirement already satisfied: astunparse>=1.6.0 in /usr/local/lib/python3.7/dist-packages (from tensorflow<2.8,>=2.7.0->tensorflow_text) (1.6.3)\n",
            "Requirement already satisfied: h5py>=2.9.0 in /usr/local/lib/python3.7/dist-packages (from tensorflow<2.8,>=2.7.0->tensorflow_text) (3.1.0)\n",
            "Requirement already satisfied: grpcio<2.0,>=1.24.3 in /usr/local/lib/python3.7/dist-packages (from tensorflow<2.8,>=2.7.0->tensorflow_text) (1.43.0)\n",
            "Requirement already satisfied: wrapt>=1.11.0 in /usr/local/lib/python3.7/dist-packages (from tensorflow<2.8,>=2.7.0->tensorflow_text) (1.13.3)\n",
            "Requirement already satisfied: flatbuffers<3.0,>=1.12 in /usr/local/lib/python3.7/dist-packages (from tensorflow<2.8,>=2.7.0->tensorflow_text) (2.0)\n",
            "Requirement already satisfied: wheel<1.0,>=0.32.0 in /usr/local/lib/python3.7/dist-packages (from tensorflow<2.8,>=2.7.0->tensorflow_text) (0.37.1)\n",
            "Requirement already satisfied: tensorboard~=2.6 in /usr/local/lib/python3.7/dist-packages (from tensorflow<2.8,>=2.7.0->tensorflow_text) (2.7.0)\n",
            "Requirement already satisfied: opt-einsum>=2.3.2 in /usr/local/lib/python3.7/dist-packages (from tensorflow<2.8,>=2.7.0->tensorflow_text) (3.3.0)\n",
            "Requirement already satisfied: typing-extensions>=3.6.6 in /usr/local/lib/python3.7/dist-packages (from tensorflow<2.8,>=2.7.0->tensorflow_text) (3.10.0.2)\n",
            "Requirement already satisfied: tensorflow-estimator<2.8,~=2.7.0rc0 in /usr/local/lib/python3.7/dist-packages (from tensorflow<2.8,>=2.7.0->tensorflow_text) (2.7.0)\n",
            "Requirement already satisfied: gast<0.5.0,>=0.2.1 in /usr/local/lib/python3.7/dist-packages (from tensorflow<2.8,>=2.7.0->tensorflow_text) (0.4.0)\n",
            "Requirement already satisfied: numpy>=1.14.5 in /usr/local/lib/python3.7/dist-packages (from tensorflow<2.8,>=2.7.0->tensorflow_text) (1.19.5)\n",
            "Requirement already satisfied: keras<2.8,>=2.7.0rc0 in /usr/local/lib/python3.7/dist-packages (from tensorflow<2.8,>=2.7.0->tensorflow_text) (2.7.0)\n",
            "Requirement already satisfied: keras-preprocessing>=1.1.1 in /usr/local/lib/python3.7/dist-packages (from tensorflow<2.8,>=2.7.0->tensorflow_text) (1.1.2)\n",
            "Requirement already satisfied: cached-property in /usr/local/lib/python3.7/dist-packages (from h5py>=2.9.0->tensorflow<2.8,>=2.7.0->tensorflow_text) (1.5.2)\n",
            "Requirement already satisfied: markdown>=2.6.8 in /usr/local/lib/python3.7/dist-packages (from tensorboard~=2.6->tensorflow<2.8,>=2.7.0->tensorflow_text) (3.3.6)\n",
            "Requirement already satisfied: google-auth<3,>=1.6.3 in /usr/local/lib/python3.7/dist-packages (from tensorboard~=2.6->tensorflow<2.8,>=2.7.0->tensorflow_text) (1.35.0)\n",
            "Requirement already satisfied: tensorboard-data-server<0.7.0,>=0.6.0 in /usr/local/lib/python3.7/dist-packages (from tensorboard~=2.6->tensorflow<2.8,>=2.7.0->tensorflow_text) (0.6.1)\n",
            "Requirement already satisfied: setuptools>=41.0.0 in /usr/local/lib/python3.7/dist-packages (from tensorboard~=2.6->tensorflow<2.8,>=2.7.0->tensorflow_text) (57.4.0)\n",
            "Requirement already satisfied: google-auth-oauthlib<0.5,>=0.4.1 in /usr/local/lib/python3.7/dist-packages (from tensorboard~=2.6->tensorflow<2.8,>=2.7.0->tensorflow_text) (0.4.6)\n",
            "Requirement already satisfied: requests<3,>=2.21.0 in /usr/local/lib/python3.7/dist-packages (from tensorboard~=2.6->tensorflow<2.8,>=2.7.0->tensorflow_text) (2.23.0)\n",
            "Requirement already satisfied: tensorboard-plugin-wit>=1.6.0 in /usr/local/lib/python3.7/dist-packages (from tensorboard~=2.6->tensorflow<2.8,>=2.7.0->tensorflow_text) (1.8.1)\n",
            "Requirement already satisfied: werkzeug>=0.11.15 in /usr/local/lib/python3.7/dist-packages (from tensorboard~=2.6->tensorflow<2.8,>=2.7.0->tensorflow_text) (1.0.1)\n",
            "Requirement already satisfied: rsa<5,>=3.1.4 in /usr/local/lib/python3.7/dist-packages (from google-auth<3,>=1.6.3->tensorboard~=2.6->tensorflow<2.8,>=2.7.0->tensorflow_text) (4.8)\n",
            "Requirement already satisfied: cachetools<5.0,>=2.0.0 in /usr/local/lib/python3.7/dist-packages (from google-auth<3,>=1.6.3->tensorboard~=2.6->tensorflow<2.8,>=2.7.0->tensorflow_text) (4.2.4)\n",
            "Requirement already satisfied: pyasn1-modules>=0.2.1 in /usr/local/lib/python3.7/dist-packages (from google-auth<3,>=1.6.3->tensorboard~=2.6->tensorflow<2.8,>=2.7.0->tensorflow_text) (0.2.8)\n",
            "Requirement already satisfied: requests-oauthlib>=0.7.0 in /usr/local/lib/python3.7/dist-packages (from google-auth-oauthlib<0.5,>=0.4.1->tensorboard~=2.6->tensorflow<2.8,>=2.7.0->tensorflow_text) (1.3.0)\n",
            "Requirement already satisfied: importlib-metadata>=4.4 in /usr/local/lib/python3.7/dist-packages (from markdown>=2.6.8->tensorboard~=2.6->tensorflow<2.8,>=2.7.0->tensorflow_text) (4.10.1)\n",
            "Requirement already satisfied: zipp>=0.5 in /usr/local/lib/python3.7/dist-packages (from importlib-metadata>=4.4->markdown>=2.6.8->tensorboard~=2.6->tensorflow<2.8,>=2.7.0->tensorflow_text) (3.7.0)\n",
            "Requirement already satisfied: pyasn1<0.5.0,>=0.4.6 in /usr/local/lib/python3.7/dist-packages (from pyasn1-modules>=0.2.1->google-auth<3,>=1.6.3->tensorboard~=2.6->tensorflow<2.8,>=2.7.0->tensorflow_text) (0.4.8)\n",
            "Requirement already satisfied: idna<3,>=2.5 in /usr/local/lib/python3.7/dist-packages (from requests<3,>=2.21.0->tensorboard~=2.6->tensorflow<2.8,>=2.7.0->tensorflow_text) (2.10)\n",
            "Requirement already satisfied: urllib3!=1.25.0,!=1.25.1,<1.26,>=1.21.1 in /usr/local/lib/python3.7/dist-packages (from requests<3,>=2.21.0->tensorboard~=2.6->tensorflow<2.8,>=2.7.0->tensorflow_text) (1.24.3)\n",
            "Requirement already satisfied: chardet<4,>=3.0.2 in /usr/local/lib/python3.7/dist-packages (from requests<3,>=2.21.0->tensorboard~=2.6->tensorflow<2.8,>=2.7.0->tensorflow_text) (3.0.4)\n",
            "Requirement already satisfied: certifi>=2017.4.17 in /usr/local/lib/python3.7/dist-packages (from requests<3,>=2.21.0->tensorboard~=2.6->tensorflow<2.8,>=2.7.0->tensorflow_text) (2021.10.8)\n",
            "Requirement already satisfied: oauthlib>=3.0.0 in /usr/local/lib/python3.7/dist-packages (from requests-oauthlib>=0.7.0->google-auth-oauthlib<0.5,>=0.4.1->tensorboard~=2.6->tensorflow<2.8,>=2.7.0->tensorflow_text) (3.1.1)\n",
            "Installing collected packages: tensorflow-text\n",
            "Successfully installed tensorflow-text-2.7.3\n",
            "Requirement already satisfied: pyyaml in /usr/local/lib/python3.7/dist-packages (3.13)\n",
            "Requirement already satisfied: h5py in /usr/local/lib/python3.7/dist-packages (3.1.0)\n",
            "Requirement already satisfied: numpy>=1.14.5 in /usr/local/lib/python3.7/dist-packages (from h5py) (1.19.5)\n",
            "Requirement already satisfied: cached-property in /usr/local/lib/python3.7/dist-packages (from h5py) (1.5.2)\n"
          ]
        }
      ],
      "source": [
        "!pip install tensorflow_text\n",
        "!pip install pyyaml h5py"
      ]
    },
    {
      "cell_type": "code",
      "execution_count": 2,
      "metadata": {
        "id": "Fq0LxbaugEqi"
      },
      "outputs": [],
      "source": [
        "import os\n",
        "import gc\n",
        "\n",
        "import pandas as pd\n",
        "import numpy as np\n",
        "import matplotlib.pyplot as plt\n",
        "import seaborn as sns\n",
        "import sklearn\n",
        "from sklearn.cluster import KMeans\n",
        "\n",
        "import tensorflow as tf\n",
        "from tensorflow import keras\n",
        "import torch\n",
        "import tensorflow_hub as hub\n",
        "import tensorflow_text as text\n",
        "\n",
        "from tensorflow.keras.models import Sequential\n",
        "from tensorflow.keras.layers import Dense\n",
        "from tensorflow.keras import regularizers\n",
        "# from transformers import BertTokenizer, BertModel, AutoTokenizer"
      ]
    },
    {
      "cell_type": "code",
      "source": [
        "preprocess_url = \"https://tfhub.dev/tensorflow/bert_en_uncased_preprocess/3\"\n",
        "encoder_url = \"https://tfhub.dev/tensorflow/bert_en_uncased_L-12_H-768_A-12/4\"\n",
        "\n",
        "bert_preprocess_model = hub.KerasLayer(preprocess_url)\n",
        "bert_model = hub.KerasLayer(encoder_url)"
      ],
      "metadata": {
        "id": "KVgXOkRoUcl9"
      },
      "execution_count": null,
      "outputs": []
    },
    {
      "cell_type": "markdown",
      "metadata": {
        "id": "_XvHPK5sjGjD"
      },
      "source": [
        "# Reading data"
      ]
    },
    {
      "cell_type": "code",
      "execution_count": null,
      "metadata": {
        "id": "LKtupsy5p8Bm"
      },
      "outputs": [],
      "source": [
        "from google.colab import drive\n",
        "mount_directory = \"/content/drive\""
      ]
    },
    {
      "cell_type": "code",
      "execution_count": null,
      "metadata": {
        "id": "x4mitbUAjk6q"
      },
      "outputs": [],
      "source": [
        "test_df = pd.read_parquet('/content/drive/MyDrive/colab/test')\n",
        "train_df = pd.read_parquet('/content/drive/MyDrive/colab/train')\n",
        "\n",
        "train = train_df.copy()\n",
        "test = test_df.copy()"
      ]
    },
    {
      "cell_type": "code",
      "source": [
        "train"
      ],
      "metadata": {
        "colab": {
          "base_uri": "https://localhost:8080/"
        },
        "id": "Oj9iZWUn7dLd",
        "outputId": "4dc1eea7-810a-40d1-f0bf-34306933e7da"
      },
      "execution_count": null,
      "outputs": [
        {
          "output_type": "execute_result",
          "data": {
            "text/html": [
              "\n",
              "  <div id=\"df-72693fe9-5d97-4f07-a481-4271b2209291\">\n",
              "    <div class=\"colab-df-container\">\n",
              "      <div>\n",
              "<style scoped>\n",
              "    .dataframe tbody tr th:only-of-type {\n",
              "        vertical-align: middle;\n",
              "    }\n",
              "\n",
              "    .dataframe tbody tr th {\n",
              "        vertical-align: top;\n",
              "    }\n",
              "\n",
              "    .dataframe thead th {\n",
              "        text-align: right;\n",
              "    }\n",
              "</style>\n",
              "<table border=\"1\" class=\"dataframe\">\n",
              "  <thead>\n",
              "    <tr style=\"text-align: right;\">\n",
              "      <th></th>\n",
              "      <th>video_id</th>\n",
              "      <th>title</th>\n",
              "      <th>publishedAt</th>\n",
              "      <th>channelId</th>\n",
              "      <th>channelTitle</th>\n",
              "      <th>categoryId</th>\n",
              "      <th>trending_date</th>\n",
              "      <th>tags</th>\n",
              "      <th>view_count</th>\n",
              "      <th>likes</th>\n",
              "      <th>dislikes</th>\n",
              "      <th>comment_count</th>\n",
              "      <th>thumbnail_link</th>\n",
              "      <th>comments_disabled</th>\n",
              "      <th>description</th>\n",
              "      <th>id</th>\n",
              "      <th>duration_seconds</th>\n",
              "      <th>has_thumbnail</th>\n",
              "      <th>target</th>\n",
              "      <th>has_description</th>\n",
              "      <th>target_prediction</th>\n",
              "    </tr>\n",
              "  </thead>\n",
              "  <tbody>\n",
              "    <tr>\n",
              "      <th>0</th>\n",
              "      <td>3C66w5Z0ixs</td>\n",
              "      <td>i asked her to be my girlfriend...</td>\n",
              "      <td>2020-08-11 19:20:14+00:00</td>\n",
              "      <td>UCvtRTOMP2TqYqu51xNrqAzg</td>\n",
              "      <td>Brawadis</td>\n",
              "      <td>22</td>\n",
              "      <td>2020-08-12</td>\n",
              "      <td>brawadis|prank|basketball|skits|ghost|funny vi...</td>\n",
              "      <td>1514614</td>\n",
              "      <td>156908</td>\n",
              "      <td>5855</td>\n",
              "      <td>35313</td>\n",
              "      <td>https://i.ytimg.com/vi/3C66w5Z0ixs/default.jpg</td>\n",
              "      <td>False</td>\n",
              "      <td>SUBSCRIBE to BRAWADIS ▶ http://bit.ly/Subscrib...</td>\n",
              "      <td>3C66w5Z0ixs_2020-08-12</td>\n",
              "      <td>547.0</td>\n",
              "      <td>True</td>\n",
              "      <td>0.103596</td>\n",
              "      <td>True</td>\n",
              "      <td>0.061548</td>\n",
              "    </tr>\n",
              "    <tr>\n",
              "      <th>1</th>\n",
              "      <td>M9Pmf9AB4Mo</td>\n",
              "      <td>apex legends | stories from the outlands – “th...</td>\n",
              "      <td>2020-08-11 17:00:10+00:00</td>\n",
              "      <td>UC0ZV6M2THA81QT9hrVWJG3A</td>\n",
              "      <td>Apex Legends</td>\n",
              "      <td>20</td>\n",
              "      <td>2020-08-12</td>\n",
              "      <td>Apex Legends|Apex Legends characters|new Apex ...</td>\n",
              "      <td>2381688</td>\n",
              "      <td>146739</td>\n",
              "      <td>2794</td>\n",
              "      <td>16549</td>\n",
              "      <td>https://i.ytimg.com/vi/M9Pmf9AB4Mo/default.jpg</td>\n",
              "      <td>False</td>\n",
              "      <td>While running her own modding shop, Ramya Pare...</td>\n",
              "      <td>M9Pmf9AB4Mo_2020-08-12</td>\n",
              "      <td>662.0</td>\n",
              "      <td>True</td>\n",
              "      <td>0.061611</td>\n",
              "      <td>True</td>\n",
              "      <td>0.057524</td>\n",
              "    </tr>\n",
              "    <tr>\n",
              "      <th>2</th>\n",
              "      <td>J78aPJ3VyNs</td>\n",
              "      <td>i left youtube for a month and this is what ha...</td>\n",
              "      <td>2020-08-11 16:34:06+00:00</td>\n",
              "      <td>UCYzPXprvl5Y-Sf0g4vX-m6g</td>\n",
              "      <td>jacksepticeye</td>\n",
              "      <td>24</td>\n",
              "      <td>2020-08-12</td>\n",
              "      <td>jacksepticeye|funny|funny meme|memes|jacksepti...</td>\n",
              "      <td>2038853</td>\n",
              "      <td>353787</td>\n",
              "      <td>2628</td>\n",
              "      <td>40221</td>\n",
              "      <td>https://i.ytimg.com/vi/J78aPJ3VyNs/default.jpg</td>\n",
              "      <td>False</td>\n",
              "      <td>I left youtube for a month and this is what ha...</td>\n",
              "      <td>J78aPJ3VyNs_2020-08-12</td>\n",
              "      <td>528.0</td>\n",
              "      <td>True</td>\n",
              "      <td>0.173523</td>\n",
              "      <td>True</td>\n",
              "      <td>0.124688</td>\n",
              "    </tr>\n",
              "    <tr>\n",
              "      <th>3</th>\n",
              "      <td>kXLn3HkpjaA</td>\n",
              "      <td>xxl 2020 freshman class revealed - official an...</td>\n",
              "      <td>2020-08-11 16:38:55+00:00</td>\n",
              "      <td>UCbg_UMjlHJg_19SZckaKajg</td>\n",
              "      <td>XXL</td>\n",
              "      <td>10</td>\n",
              "      <td>2020-08-12</td>\n",
              "      <td>xxl freshman|xxl freshmen|2020 xxl freshman|20...</td>\n",
              "      <td>496771</td>\n",
              "      <td>23251</td>\n",
              "      <td>1856</td>\n",
              "      <td>7647</td>\n",
              "      <td>https://i.ytimg.com/vi/kXLn3HkpjaA/default.jpg</td>\n",
              "      <td>False</td>\n",
              "      <td>Subscribe to XXL → http://bit.ly/subscribe-xxl...</td>\n",
              "      <td>kXLn3HkpjaA_2020-08-12</td>\n",
              "      <td>203.0</td>\n",
              "      <td>True</td>\n",
              "      <td>0.046804</td>\n",
              "      <td>True</td>\n",
              "      <td>0.039038</td>\n",
              "    </tr>\n",
              "    <tr>\n",
              "      <th>4</th>\n",
              "      <td>VIUo6yapDbc</td>\n",
              "      <td>ultimate diy home movie theater for the labran...</td>\n",
              "      <td>2020-08-11 15:10:05+00:00</td>\n",
              "      <td>UCDVPcEbVLQgLZX0Rt6jo34A</td>\n",
              "      <td>Mr. Kate</td>\n",
              "      <td>26</td>\n",
              "      <td>2020-08-12</td>\n",
              "      <td>The LaBrant Family|DIY|Interior Design|Makeove...</td>\n",
              "      <td>1123889</td>\n",
              "      <td>45802</td>\n",
              "      <td>964</td>\n",
              "      <td>2196</td>\n",
              "      <td>https://i.ytimg.com/vi/VIUo6yapDbc/default.jpg</td>\n",
              "      <td>False</td>\n",
              "      <td>Transforming The LaBrant Family's empty white ...</td>\n",
              "      <td>VIUo6yapDbc_2020-08-12</td>\n",
              "      <td>836.0</td>\n",
              "      <td>True</td>\n",
              "      <td>0.040753</td>\n",
              "      <td>True</td>\n",
              "      <td>0.054775</td>\n",
              "    </tr>\n",
              "    <tr>\n",
              "      <th>...</th>\n",
              "      <td>...</td>\n",
              "      <td>...</td>\n",
              "      <td>...</td>\n",
              "      <td>...</td>\n",
              "      <td>...</td>\n",
              "      <td>...</td>\n",
              "      <td>...</td>\n",
              "      <td>...</td>\n",
              "      <td>...</td>\n",
              "      <td>...</td>\n",
              "      <td>...</td>\n",
              "      <td>...</td>\n",
              "      <td>...</td>\n",
              "      <td>...</td>\n",
              "      <td>...</td>\n",
              "      <td>...</td>\n",
              "      <td>...</td>\n",
              "      <td>...</td>\n",
              "      <td>...</td>\n",
              "      <td>...</td>\n",
              "      <td>...</td>\n",
              "    </tr>\n",
              "    <tr>\n",
              "      <th>91826</th>\n",
              "      <td>H1tQhK0n5Qk</td>\n",
              "      <td>thanks for 5 million</td>\n",
              "      <td>2021-11-23 19:13:46+00:00</td>\n",
              "      <td>UCSUf5_EPEfl4zlBKZHkZdmw</td>\n",
              "      <td>Danny Gonzalez</td>\n",
              "      <td>23</td>\n",
              "      <td>2021-11-30</td>\n",
              "      <td>danny gonzalez|funny|commentary|comedy|react|r...</td>\n",
              "      <td>536056</td>\n",
              "      <td>109352</td>\n",
              "      <td>550</td>\n",
              "      <td>4374</td>\n",
              "      <td>https://i.ytimg.com/vi/H1tQhK0n5Qk/default.jpg</td>\n",
              "      <td>False</td>\n",
              "      <td>#shorts</td>\n",
              "      <td>H1tQhK0n5Qk_2021-11-30</td>\n",
              "      <td>59.0</td>\n",
              "      <td>True</td>\n",
              "      <td>0.203994</td>\n",
              "      <td>True</td>\n",
              "      <td>0.090401</td>\n",
              "    </tr>\n",
              "    <tr>\n",
              "      <th>91827</th>\n",
              "      <td>3CuO39VL3rk</td>\n",
              "      <td>mrs. rogers done f’ed up😅 #shorts #story #come...</td>\n",
              "      <td>2021-11-24 23:48:37+00:00</td>\n",
              "      <td>UCqseWqrl7r-hNoWme7hIfTw</td>\n",
              "      <td>Rebecca Rogers (Mrs. Rogers)</td>\n",
              "      <td>23</td>\n",
              "      <td>2021-11-30</td>\n",
              "      <td>[None]</td>\n",
              "      <td>863236</td>\n",
              "      <td>116742</td>\n",
              "      <td>1161</td>\n",
              "      <td>583</td>\n",
              "      <td>https://i.ytimg.com/vi/3CuO39VL3rk/default.jpg</td>\n",
              "      <td>False</td>\n",
              "      <td>No description</td>\n",
              "      <td>3CuO39VL3rk_2021-11-30</td>\n",
              "      <td>58.0</td>\n",
              "      <td>True</td>\n",
              "      <td>0.135238</td>\n",
              "      <td>False</td>\n",
              "      <td>0.057188</td>\n",
              "    </tr>\n",
              "    <tr>\n",
              "      <th>91828</th>\n",
              "      <td>qfDVsuwg0TU</td>\n",
              "      <td>my new kitchen reveal!!!!! exciting</td>\n",
              "      <td>2021-11-23 22:50:19+00:00</td>\n",
              "      <td>UCnB4LOZe6Dc5JUH9EoaHhKQ</td>\n",
              "      <td>Bri &amp; Fern</td>\n",
              "      <td>1</td>\n",
              "      <td>2021-11-30</td>\n",
              "      <td>10-19-21</td>\n",
              "      <td>194119</td>\n",
              "      <td>14569</td>\n",
              "      <td>180</td>\n",
              "      <td>5276</td>\n",
              "      <td>https://i.ytimg.com/vi/qfDVsuwg0TU/default.jpg</td>\n",
              "      <td>False</td>\n",
              "      <td>Contracter email: Los3topetes@gmail.comFOLLOW ...</td>\n",
              "      <td>qfDVsuwg0TU_2021-11-30</td>\n",
              "      <td>824.0</td>\n",
              "      <td>True</td>\n",
              "      <td>0.075052</td>\n",
              "      <td>True</td>\n",
              "      <td>0.057801</td>\n",
              "    </tr>\n",
              "    <tr>\n",
              "      <th>91829</th>\n",
              "      <td>HHbF8HaC4w8</td>\n",
              "      <td>using reverse psychology to get anything you want</td>\n",
              "      <td>2021-11-21 21:15:16+00:00</td>\n",
              "      <td>UCQNDoTI2g7_daH6zL_9rvWg</td>\n",
              "      <td>Amyy Woahh</td>\n",
              "      <td>23</td>\n",
              "      <td>2021-11-30</td>\n",
              "      <td>[None]</td>\n",
              "      <td>24584472</td>\n",
              "      <td>1457618</td>\n",
              "      <td>61893</td>\n",
              "      <td>3610</td>\n",
              "      <td>https://i.ytimg.com/vi/HHbF8HaC4w8/default.jpg</td>\n",
              "      <td>False</td>\n",
              "      <td>No description</td>\n",
              "      <td>HHbF8HaC4w8_2021-11-30</td>\n",
              "      <td>56.0</td>\n",
              "      <td>True</td>\n",
              "      <td>0.059290</td>\n",
              "      <td>False</td>\n",
              "      <td>0.076928</td>\n",
              "    </tr>\n",
              "    <tr>\n",
              "      <th>91830</th>\n",
              "      <td>z84NDl9eNXg</td>\n",
              "      <td>squid games in real life… but it’s only girls!!</td>\n",
              "      <td>2021-11-24 16:21:04+00:00</td>\n",
              "      <td>UCXOSzGyN3EPZfKE2hujeIYA</td>\n",
              "      <td>Lizzy Capri</td>\n",
              "      <td>24</td>\n",
              "      <td>2021-11-30</td>\n",
              "      <td>Lizzy Capri|lizzy|Team RAR|Carter Sharer|squid...</td>\n",
              "      <td>751638</td>\n",
              "      <td>16519</td>\n",
              "      <td>1935</td>\n",
              "      <td>1432</td>\n",
              "      <td>https://i.ytimg.com/vi/z84NDl9eNXg/default.jpg</td>\n",
              "      <td>False</td>\n",
              "      <td>In today's video we play squid games with an a...</td>\n",
              "      <td>z84NDl9eNXg_2021-11-30</td>\n",
              "      <td>1032.0</td>\n",
              "      <td>False</td>\n",
              "      <td>0.021977</td>\n",
              "      <td>True</td>\n",
              "      <td>0.073035</td>\n",
              "    </tr>\n",
              "  </tbody>\n",
              "</table>\n",
              "<p>91831 rows × 21 columns</p>\n",
              "</div>\n",
              "      <button class=\"colab-df-convert\" onclick=\"convertToInteractive('df-72693fe9-5d97-4f07-a481-4271b2209291')\"\n",
              "              title=\"Convert this dataframe to an interactive table.\"\n",
              "              style=\"display:none;\">\n",
              "        \n",
              "  <svg xmlns=\"http://www.w3.org/2000/svg\" height=\"24px\"viewBox=\"0 0 24 24\"\n",
              "       width=\"24px\">\n",
              "    <path d=\"M0 0h24v24H0V0z\" fill=\"none\"/>\n",
              "    <path d=\"M18.56 5.44l.94 2.06.94-2.06 2.06-.94-2.06-.94-.94-2.06-.94 2.06-2.06.94zm-11 1L8.5 8.5l.94-2.06 2.06-.94-2.06-.94L8.5 2.5l-.94 2.06-2.06.94zm10 10l.94 2.06.94-2.06 2.06-.94-2.06-.94-.94-2.06-.94 2.06-2.06.94z\"/><path d=\"M17.41 7.96l-1.37-1.37c-.4-.4-.92-.59-1.43-.59-.52 0-1.04.2-1.43.59L10.3 9.45l-7.72 7.72c-.78.78-.78 2.05 0 2.83L4 21.41c.39.39.9.59 1.41.59.51 0 1.02-.2 1.41-.59l7.78-7.78 2.81-2.81c.8-.78.8-2.07 0-2.86zM5.41 20L4 18.59l7.72-7.72 1.47 1.35L5.41 20z\"/>\n",
              "  </svg>\n",
              "      </button>\n",
              "      \n",
              "  <style>\n",
              "    .colab-df-container {\n",
              "      display:flex;\n",
              "      flex-wrap:wrap;\n",
              "      gap: 12px;\n",
              "    }\n",
              "\n",
              "    .colab-df-convert {\n",
              "      background-color: #E8F0FE;\n",
              "      border: none;\n",
              "      border-radius: 50%;\n",
              "      cursor: pointer;\n",
              "      display: none;\n",
              "      fill: #1967D2;\n",
              "      height: 32px;\n",
              "      padding: 0 0 0 0;\n",
              "      width: 32px;\n",
              "    }\n",
              "\n",
              "    .colab-df-convert:hover {\n",
              "      background-color: #E2EBFA;\n",
              "      box-shadow: 0px 1px 2px rgba(60, 64, 67, 0.3), 0px 1px 3px 1px rgba(60, 64, 67, 0.15);\n",
              "      fill: #174EA6;\n",
              "    }\n",
              "\n",
              "    [theme=dark] .colab-df-convert {\n",
              "      background-color: #3B4455;\n",
              "      fill: #D2E3FC;\n",
              "    }\n",
              "\n",
              "    [theme=dark] .colab-df-convert:hover {\n",
              "      background-color: #434B5C;\n",
              "      box-shadow: 0px 1px 3px 1px rgba(0, 0, 0, 0.15);\n",
              "      filter: drop-shadow(0px 1px 2px rgba(0, 0, 0, 0.3));\n",
              "      fill: #FFFFFF;\n",
              "    }\n",
              "  </style>\n",
              "\n",
              "      <script>\n",
              "        const buttonEl =\n",
              "          document.querySelector('#df-72693fe9-5d97-4f07-a481-4271b2209291 button.colab-df-convert');\n",
              "        buttonEl.style.display =\n",
              "          google.colab.kernel.accessAllowed ? 'block' : 'none';\n",
              "\n",
              "        async function convertToInteractive(key) {\n",
              "          const element = document.querySelector('#df-72693fe9-5d97-4f07-a481-4271b2209291');\n",
              "          const dataTable =\n",
              "            await google.colab.kernel.invokeFunction('convertToInteractive',\n",
              "                                                     [key], {});\n",
              "          if (!dataTable) return;\n",
              "\n",
              "          const docLinkHtml = 'Like what you see? Visit the ' +\n",
              "            '<a target=\"_blank\" href=https://colab.research.google.com/notebooks/data_table.ipynb>data table notebook</a>'\n",
              "            + ' to learn more about interactive tables.';\n",
              "          element.innerHTML = '';\n",
              "          dataTable['output_type'] = 'display_data';\n",
              "          await google.colab.output.renderOutput(dataTable, element);\n",
              "          const docLink = document.createElement('div');\n",
              "          docLink.innerHTML = docLinkHtml;\n",
              "          element.appendChild(docLink);\n",
              "        }\n",
              "      </script>\n",
              "    </div>\n",
              "  </div>\n",
              "  "
            ],
            "text/plain": [
              "          video_id  ... target_prediction\n",
              "0      3C66w5Z0ixs  ...          0.061548\n",
              "1      M9Pmf9AB4Mo  ...          0.057524\n",
              "2      J78aPJ3VyNs  ...          0.124688\n",
              "3      kXLn3HkpjaA  ...          0.039038\n",
              "4      VIUo6yapDbc  ...          0.054775\n",
              "...            ...  ...               ...\n",
              "91826  H1tQhK0n5Qk  ...          0.090401\n",
              "91827  3CuO39VL3rk  ...          0.057188\n",
              "91828  qfDVsuwg0TU  ...          0.057801\n",
              "91829  HHbF8HaC4w8  ...          0.076928\n",
              "91830  z84NDl9eNXg  ...          0.073035\n",
              "\n",
              "[91831 rows x 21 columns]"
            ]
          },
          "metadata": {},
          "execution_count": 5
        }
      ]
    },
    {
      "cell_type": "markdown",
      "metadata": {
        "id": "r90F0P8UlLPg"
      },
      "source": [
        "# Basic secription of data"
      ]
    },
    {
      "cell_type": "code",
      "execution_count": null,
      "metadata": {
        "id": "7zzGKKOul1xv"
      },
      "outputs": [],
      "source": [
        "# There are a couple of null values, let's deal with them.\n",
        "# Before we do something to our df, let's unite them\n",
        "# in order to change them simultaneously"
      ]
    },
    {
      "cell_type": "code",
      "execution_count": null,
      "metadata": {
        "id": "6uVGo1Bhmm_i"
      },
      "outputs": [],
      "source": [
        "dfs = [train, test]"
      ]
    },
    {
      "cell_type": "code",
      "execution_count": null,
      "metadata": {
        "id": "13Rb9rzQm1yW"
      },
      "outputs": [],
      "source": [
        "a = train[train.publishedAt.dt.year == 2021].groupby('categoryId').duration_seconds.median()"
      ]
    },
    {
      "cell_type": "code",
      "execution_count": null,
      "metadata": {
        "id": "u7ztCuP_m1nY"
      },
      "outputs": [],
      "source": [
        "for df in dfs:\n",
        "    for category in a.index:\n",
        "        df.loc[(df.duration_seconds.isna()) & (df.categoryId == category), 'duration_seconds'] = a[category]"
      ]
    },
    {
      "cell_type": "code",
      "execution_count": null,
      "metadata": {
        "id": "raVMGpJqm1bW"
      },
      "outputs": [],
      "source": [
        "train.isnull().sum()"
      ]
    },
    {
      "cell_type": "code",
      "execution_count": null,
      "metadata": {
        "id": "sbehG_gBm1OR"
      },
      "outputs": [],
      "source": [
        "# We should create a new column, which shows whether discription is NaN or not"
      ]
    },
    {
      "cell_type": "code",
      "execution_count": null,
      "metadata": {
        "id": "tBy4nAHYmmy-"
      },
      "outputs": [],
      "source": [
        "for df in dfs:\n",
        "    df['has_description'] = ~df['description'].isnull()"
      ]
    },
    {
      "cell_type": "code",
      "execution_count": null,
      "metadata": {
        "id": "ofBSkZpGpcpL"
      },
      "outputs": [],
      "source": [
        "for df in dfs:\n",
        "    df.description.fillna('No description', inplace=True)"
      ]
    },
    {
      "cell_type": "code",
      "execution_count": null,
      "metadata": {
        "id": "sxi0PWHAo-xz"
      },
      "outputs": [],
      "source": [
        "for df in dfs:\n",
        "    df.trending_date = pd.to_datetime(df.trending_date)"
      ]
    },
    {
      "cell_type": "code",
      "execution_count": null,
      "metadata": {
        "id": "apin5xJsotku"
      },
      "outputs": [],
      "source": [
        "for df in dfs:\n",
        "    df.drop(df[df.ratings_disabled == True].index, inplace=True)"
      ]
    },
    {
      "cell_type": "code",
      "execution_count": null,
      "metadata": {
        "id": "bN6sbTamrnZn"
      },
      "outputs": [],
      "source": [
        "train.title = train.title.str.lower()\n",
        "titles = list(train.title)"
      ]
    },
    {
      "cell_type": "code",
      "execution_count": null,
      "metadata": {
        "id": "heP1hMEp3lDt"
      },
      "outputs": [],
      "source": [
        "train[train.ratings_disabled == True].index"
      ]
    },
    {
      "cell_type": "code",
      "execution_count": null,
      "metadata": {
        "id": "Pdu1sHg8uLtR"
      },
      "outputs": [],
      "source": [
        "train.reset_index(inplace=True)"
      ]
    },
    {
      "cell_type": "markdown",
      "metadata": {
        "id": "k0hhZf3fHv2U"
      },
      "source": [
        "# Using BERT to deal with titles, descriptions and tags"
      ]
    },
    {
      "cell_type": "markdown",
      "source": [
        "## Making embeddings"
      ],
      "metadata": {
        "id": "slHeshLcABmV"
      }
    },
    {
      "cell_type": "code",
      "execution_count": null,
      "metadata": {
        "id": "QQDDLTRAjGpx"
      },
      "outputs": [],
      "source": [
        "MAKE_EMB = False\n",
        "if MAKE_EMB:\n",
        "    for i in range(0, len(titles) // 32 + 1):\n",
        "        np.save('/content/drive/MyDrive/embeddings/em_{}'.format(i), \\\n",
        "                bert_model(bert_preprocess_model(titles[32*i : 32*(i + 1)])) \\\n",
        "                ['pooled_output'].numpy())\n",
        "        gc.collect()"
      ]
    },
    {
      "cell_type": "markdown",
      "source": [
        "## Creating model"
      ],
      "metadata": {
        "id": "kcwuAk0NAWBw"
      }
    },
    {
      "cell_type": "code",
      "execution_count": null,
      "metadata": {
        "id": "rZvbqK1PRO6b"
      },
      "outputs": [],
      "source": [
        "def yield_batches():\n",
        "    a = np.load('/content/drive/MyDrive/embeddings/em_{}.npy'.format(0))\n",
        "    b = np.array(train.target[0:32])\n",
        "\n",
        "    for i in range(1, 2870):\n",
        "        ar = np.load('/content/drive/MyDrive/embeddings/em_{}.npy'.format(i))\n",
        "        a = np.concatenate([a, ar])\n",
        "        b = np.concatenate([b, np.array(train.target[32*i:32*(i+1)])])\n",
        "\n",
        "\n",
        "    return a, b"
      ]
    },
    {
      "cell_type": "code",
      "execution_count": null,
      "metadata": {
        "id": "SRoNqxSY2t5y"
      },
      "outputs": [],
      "source": [
        "model = Sequential()\n",
        "model.add(Dense(768, input_shape=(768,), activation='elu'))\n",
        "model.add(Dense(512, activation='elu'))\n",
        "model.add(Dense(512, activation='elu'))\n",
        "model.add(Dense(256, activation='elu'))\n",
        "model.add(Dense(128, activation='elu'))\n",
        "keras.layers.Dropout(rate=0.2) \n",
        "model.add(Dense(128, activation='elu'))\n",
        "model.add(Dense(64, activation='elu'))\n",
        "model.add(Dense(16, activation='elu'))\n",
        "model.add(Dense(1, activation='elu'))"
      ]
    },
    {
      "cell_type": "code",
      "execution_count": null,
      "metadata": {
        "id": "36jJsJbHKOBL"
      },
      "outputs": [],
      "source": [
        "adam_optimizer = tf.keras.optimizers.Adam(learning_rate=0.00001)\n",
        "\n",
        "model.compile(\n",
        "    optimizer=adam_optimizer,\n",
        "    loss=tf.keras.losses.MeanAbsoluteError(\n",
        "    reduction=\"auto\", name=\"mean_absolute_error\"),\n",
        ")"
      ]
    },
    {
      "cell_type": "code",
      "execution_count": null,
      "metadata": {
        "colab": {
          "base_uri": "https://localhost:8080/"
        },
        "id": "CO1DXoNrZaJT",
        "outputId": "48eacf9b-f866-4d64-89ab-22e58b9240a5"
      },
      "outputs": [
        {
          "output_type": "stream",
          "name": "stdout",
          "text": [
            "Drive already mounted at /content/drive; to attempt to forcibly remount, call drive.mount(\"/content/drive\", force_remount=True).\n"
          ]
        }
      ],
      "source": [
        "USE_GOOGLE_DRIVE = True\n",
        "\n",
        "def mount_google_drive():\n",
        "    drive.mount(mount_directory)\n",
        "    drive_root = mount_directory + \"/\" + list(filter(lambda x: x[0] != '.', os.listdir(mount_directory)))[0] + \"/colab\"\n",
        "    return drive_root\n",
        "\n",
        "CHECKPOINT_ROOT = \"\"\n",
        "if USE_GOOGLE_DRIVE:\n",
        "    import datetime\n",
        "    CHECKPOINT_ROOT = mount_google_drive() + \"/\"\n",
        "\n",
        "def get_checkpoint_path(epoch=None):\n",
        "    if epoch is None:\n",
        "        return os.path.abspath(CHECKPOINT_ROOT + \"weights\")\n",
        "    else:\n",
        "        return os.path.abspath(CHECKPOINT_ROOT + \"weights_{}\".format(epoch))"
      ]
    },
    {
      "cell_type": "code",
      "execution_count": null,
      "metadata": {
        "id": "0GDMtMJNxSJ8"
      },
      "outputs": [],
      "source": [
        "checkpoint_path = \"/content/drive/MyDrive/colab/Checkpoints/cp.ckpt\"\n",
        "checkpoint_dir = os.path.dirname(checkpoint_path)\n",
        "\n",
        "cp_callback = tf.keras.callbacks.ModelCheckpoint(filepath=checkpoint_path,\n",
        "                                                 save_weights_only=True,\n",
        "                                                 verbose=1)"
      ]
    },
    {
      "cell_type": "code",
      "execution_count": null,
      "metadata": {
        "id": "0ovn3xWfYMTC"
      },
      "outputs": [],
      "source": [
        "if MAKE_EMB:\n",
        "    train_embeddings, train_y = yield_batches()\n",
        "    np.save('/content/drive/MyDrive/embeddings/train_embeddings.npy', train_embeddings)\n",
        "    np.save('/content/drive/MyDrive/embeddings/train_y.npy', train_y)"
      ]
    },
    {
      "cell_type": "code",
      "execution_count": null,
      "metadata": {
        "id": "C0X2SOSivrem"
      },
      "outputs": [],
      "source": [
        "train_embeddings = np.load('/content/drive/MyDrive/train_embeddings.npy')\n",
        "train_y = np.load('/content/drive/MyDrive/train_y.npy')"
      ]
    },
    {
      "cell_type": "code",
      "source": [
        "model.load_weights(\"/content/drive/MyDrive/colab/Checkpoints/cp.ckpt\")"
      ],
      "metadata": {
        "colab": {
          "base_uri": "https://localhost:8080/"
        },
        "id": "iG_5eYf2BlJA",
        "outputId": "ee56f142-6851-41d8-e711-cda1cca82d82"
      },
      "execution_count": null,
      "outputs": [
        {
          "output_type": "execute_result",
          "data": {
            "text/plain": [
              "<tensorflow.python.training.tracking.util.CheckpointLoadStatus at 0x7f624f63e950>"
            ]
          },
          "metadata": {},
          "execution_count": 15
        }
      ]
    },
    {
      "cell_type": "code",
      "execution_count": null,
      "metadata": {
        "id": "c4Zr2Ktoepz2"
      },
      "outputs": [],
      "source": [
        "TRAIN_MODEL = False\n",
        "\n",
        "if TRAIN_MODEL:\n",
        "    training_history = model.fit(\n",
        "        train_embeddings,\n",
        "        train_y,\n",
        "        epochs=100,\n",
        "        callbacks=[cp_callback],\n",
        "        batch_size=64, \n",
        "        validation_split=0.1, \n",
        "        shuffle=True\n",
        "    )"
      ]
    },
    {
      "cell_type": "markdown",
      "source": [
        "## making predictions"
      ],
      "metadata": {
        "id": "lRuXs-vIWDOn"
      }
    },
    {
      "cell_type": "code",
      "execution_count": null,
      "metadata": {
        "id": "PB2hxSwNYtj3"
      },
      "outputs": [],
      "source": [
        "def predict(text):\n",
        "    pre = bert_preprocess_model(text)\n",
        "    emb = bert_model(pre)['pooled_output']\n",
        "    return model.predict(emb)"
      ]
    },
    {
      "cell_type": "code",
      "source": [
        "train.to_parquet('/content/drive/MyDrive/colab/train_1')"
      ],
      "metadata": {
        "id": "l14ebSgRRA2R"
      },
      "execution_count": null,
      "outputs": []
    },
    {
      "cell_type": "code",
      "source": [
        "def f(lst):\n",
        "    lst += ['[NONE]'] * max(0, 10 - len(lst))\n",
        "    lst = np.random.choice(lst, size = 10, replace=False)\n",
        "    return lst"
      ],
      "metadata": {
        "id": "rakq03Evup6C"
      },
      "execution_count": null,
      "outputs": []
    },
    {
      "cell_type": "code",
      "source": [
        "def stretch(array):\n",
        "    array = np.array([[element] * 10 for element in array])\n",
        "    return array.reshape(-1)"
      ],
      "metadata": {
        "id": "Eae3yrlqcy5O"
      },
      "execution_count": null,
      "outputs": []
    },
    {
      "cell_type": "code",
      "source": [
        "for i in range(0, 90):    \n",
        "    tags_embeddings = np.array(list(map(lambda x: bert_model(bert_preprocess_model(x))['pooled_output'], np.array(tags[1024*i: 1024*(i+1)]))))\n",
        "    np.save('/content/drive/MyDrive/embeddings/em_{}'.format(i), tags_embeddings)\n",
        "    print(tags_embeddings.shape)"
      ],
      "metadata": {
        "colab": {
          "base_uri": "https://localhost:8080/",
          "height": 901
        },
        "id": "D5mK9PvLrMO7",
        "outputId": "604eb2bf-efcc-45f1-d408-b7c9c39e196d"
      },
      "execution_count": null,
      "outputs": [
        {
          "output_type": "stream",
          "name": "stdout",
          "text": [
            "(1024, 10, 768)\n",
            "(1024, 10, 768)\n",
            "(1024, 10, 768)\n",
            "(1024, 10, 768)\n",
            "(1024, 10, 768)\n",
            "(1024, 10, 768)\n",
            "(1024, 10, 768)\n",
            "(1024, 10, 768)\n",
            "(1024, 10, 768)\n",
            "(1024, 10, 768)\n",
            "(1024, 10, 768)\n",
            "(1024, 10, 768)\n",
            "(1024, 10, 768)\n",
            "(1024, 10, 768)\n",
            "(1024, 10, 768)\n",
            "(1024, 10, 768)\n",
            "(1024, 10, 768)\n",
            "(1024, 10, 768)\n",
            "(1024, 10, 768)\n",
            "(1024, 10, 768)\n",
            "(1024, 10, 768)\n",
            "(1024, 10, 768)\n",
            "(1024, 10, 768)\n",
            "(1024, 10, 768)\n",
            "(1024, 10, 768)\n",
            "(1024, 10, 768)\n",
            "(1024, 10, 768)\n",
            "(1024, 10, 768)\n",
            "(1024, 10, 768)\n",
            "(1024, 10, 768)\n"
          ]
        },
        {
          "output_type": "error",
          "ename": "KeyboardInterrupt",
          "evalue": "ignored",
          "traceback": [
            "\u001b[0;31m---------------------------------------------------------------------------\u001b[0m",
            "\u001b[0;31mKeyboardInterrupt\u001b[0m                         Traceback (most recent call last)",
            "\u001b[0;32m<ipython-input-13-f6a83f97839c>\u001b[0m in \u001b[0;36m<module>\u001b[0;34m()\u001b[0m\n\u001b[1;32m      1\u001b[0m \u001b[0;32mfor\u001b[0m \u001b[0mi\u001b[0m \u001b[0;32min\u001b[0m \u001b[0mrange\u001b[0m\u001b[0;34m(\u001b[0m\u001b[0;36m0\u001b[0m\u001b[0;34m,\u001b[0m \u001b[0;36m90\u001b[0m\u001b[0;34m)\u001b[0m\u001b[0;34m:\u001b[0m\u001b[0;34m\u001b[0m\u001b[0;34m\u001b[0m\u001b[0m\n\u001b[0;32m----> 2\u001b[0;31m     \u001b[0mtags_embeddings\u001b[0m \u001b[0;34m=\u001b[0m \u001b[0mnp\u001b[0m\u001b[0;34m.\u001b[0m\u001b[0marray\u001b[0m\u001b[0;34m(\u001b[0m\u001b[0mlist\u001b[0m\u001b[0;34m(\u001b[0m\u001b[0mmap\u001b[0m\u001b[0;34m(\u001b[0m\u001b[0;32mlambda\u001b[0m \u001b[0mx\u001b[0m\u001b[0;34m:\u001b[0m \u001b[0mbert_model\u001b[0m\u001b[0;34m(\u001b[0m\u001b[0mbert_preprocess_model\u001b[0m\u001b[0;34m(\u001b[0m\u001b[0mx\u001b[0m\u001b[0;34m)\u001b[0m\u001b[0;34m)\u001b[0m\u001b[0;34m[\u001b[0m\u001b[0;34m'pooled_output'\u001b[0m\u001b[0;34m]\u001b[0m\u001b[0;34m,\u001b[0m \u001b[0mnp\u001b[0m\u001b[0;34m.\u001b[0m\u001b[0marray\u001b[0m\u001b[0;34m(\u001b[0m\u001b[0mtags\u001b[0m\u001b[0;34m[\u001b[0m\u001b[0;36m1024\u001b[0m\u001b[0;34m*\u001b[0m\u001b[0mi\u001b[0m\u001b[0;34m:\u001b[0m \u001b[0;36m1024\u001b[0m\u001b[0;34m*\u001b[0m\u001b[0;34m(\u001b[0m\u001b[0mi\u001b[0m\u001b[0;34m+\u001b[0m\u001b[0;36m1\u001b[0m\u001b[0;34m)\u001b[0m\u001b[0;34m]\u001b[0m\u001b[0;34m)\u001b[0m\u001b[0;34m)\u001b[0m\u001b[0;34m)\u001b[0m\u001b[0;34m)\u001b[0m\u001b[0;34m\u001b[0m\u001b[0;34m\u001b[0m\u001b[0m\n\u001b[0m\u001b[1;32m      3\u001b[0m     \u001b[0mnp\u001b[0m\u001b[0;34m.\u001b[0m\u001b[0msave\u001b[0m\u001b[0;34m(\u001b[0m\u001b[0;34m'/content/drive/MyDrive/embeddings/em_{}'\u001b[0m\u001b[0;34m.\u001b[0m\u001b[0mformat\u001b[0m\u001b[0;34m(\u001b[0m\u001b[0mi\u001b[0m\u001b[0;34m)\u001b[0m\u001b[0;34m,\u001b[0m \u001b[0mtags_embeddings\u001b[0m\u001b[0;34m)\u001b[0m\u001b[0;34m\u001b[0m\u001b[0;34m\u001b[0m\u001b[0m\n\u001b[1;32m      4\u001b[0m     \u001b[0mprint\u001b[0m\u001b[0;34m(\u001b[0m\u001b[0mtags_embeddings\u001b[0m\u001b[0;34m.\u001b[0m\u001b[0mshape\u001b[0m\u001b[0;34m)\u001b[0m\u001b[0;34m\u001b[0m\u001b[0;34m\u001b[0m\u001b[0m\n",
            "\u001b[0;32m<ipython-input-13-f6a83f97839c>\u001b[0m in \u001b[0;36m<lambda>\u001b[0;34m(x)\u001b[0m\n\u001b[1;32m      1\u001b[0m \u001b[0;32mfor\u001b[0m \u001b[0mi\u001b[0m \u001b[0;32min\u001b[0m \u001b[0mrange\u001b[0m\u001b[0;34m(\u001b[0m\u001b[0;36m0\u001b[0m\u001b[0;34m,\u001b[0m \u001b[0;36m90\u001b[0m\u001b[0;34m)\u001b[0m\u001b[0;34m:\u001b[0m\u001b[0;34m\u001b[0m\u001b[0;34m\u001b[0m\u001b[0m\n\u001b[0;32m----> 2\u001b[0;31m     \u001b[0mtags_embeddings\u001b[0m \u001b[0;34m=\u001b[0m \u001b[0mnp\u001b[0m\u001b[0;34m.\u001b[0m\u001b[0marray\u001b[0m\u001b[0;34m(\u001b[0m\u001b[0mlist\u001b[0m\u001b[0;34m(\u001b[0m\u001b[0mmap\u001b[0m\u001b[0;34m(\u001b[0m\u001b[0;32mlambda\u001b[0m \u001b[0mx\u001b[0m\u001b[0;34m:\u001b[0m \u001b[0mbert_model\u001b[0m\u001b[0;34m(\u001b[0m\u001b[0mbert_preprocess_model\u001b[0m\u001b[0;34m(\u001b[0m\u001b[0mx\u001b[0m\u001b[0;34m)\u001b[0m\u001b[0;34m)\u001b[0m\u001b[0;34m[\u001b[0m\u001b[0;34m'pooled_output'\u001b[0m\u001b[0;34m]\u001b[0m\u001b[0;34m,\u001b[0m \u001b[0mnp\u001b[0m\u001b[0;34m.\u001b[0m\u001b[0marray\u001b[0m\u001b[0;34m(\u001b[0m\u001b[0mtags\u001b[0m\u001b[0;34m[\u001b[0m\u001b[0;36m1024\u001b[0m\u001b[0;34m*\u001b[0m\u001b[0mi\u001b[0m\u001b[0;34m:\u001b[0m \u001b[0;36m1024\u001b[0m\u001b[0;34m*\u001b[0m\u001b[0;34m(\u001b[0m\u001b[0mi\u001b[0m\u001b[0;34m+\u001b[0m\u001b[0;36m1\u001b[0m\u001b[0;34m)\u001b[0m\u001b[0;34m]\u001b[0m\u001b[0;34m)\u001b[0m\u001b[0;34m)\u001b[0m\u001b[0;34m)\u001b[0m\u001b[0;34m)\u001b[0m\u001b[0;34m\u001b[0m\u001b[0;34m\u001b[0m\u001b[0m\n\u001b[0m\u001b[1;32m      3\u001b[0m     \u001b[0mnp\u001b[0m\u001b[0;34m.\u001b[0m\u001b[0msave\u001b[0m\u001b[0;34m(\u001b[0m\u001b[0;34m'/content/drive/MyDrive/embeddings/em_{}'\u001b[0m\u001b[0;34m.\u001b[0m\u001b[0mformat\u001b[0m\u001b[0;34m(\u001b[0m\u001b[0mi\u001b[0m\u001b[0;34m)\u001b[0m\u001b[0;34m,\u001b[0m \u001b[0mtags_embeddings\u001b[0m\u001b[0;34m)\u001b[0m\u001b[0;34m\u001b[0m\u001b[0;34m\u001b[0m\u001b[0m\n\u001b[1;32m      4\u001b[0m     \u001b[0mprint\u001b[0m\u001b[0;34m(\u001b[0m\u001b[0mtags_embeddings\u001b[0m\u001b[0;34m.\u001b[0m\u001b[0mshape\u001b[0m\u001b[0;34m)\u001b[0m\u001b[0;34m\u001b[0m\u001b[0;34m\u001b[0m\u001b[0m\n",
            "\u001b[0;32m/usr/local/lib/python3.7/dist-packages/keras/utils/traceback_utils.py\u001b[0m in \u001b[0;36merror_handler\u001b[0;34m(*args, **kwargs)\u001b[0m\n\u001b[1;32m     62\u001b[0m     \u001b[0mfiltered_tb\u001b[0m \u001b[0;34m=\u001b[0m \u001b[0;32mNone\u001b[0m\u001b[0;34m\u001b[0m\u001b[0;34m\u001b[0m\u001b[0m\n\u001b[1;32m     63\u001b[0m     \u001b[0;32mtry\u001b[0m\u001b[0;34m:\u001b[0m\u001b[0;34m\u001b[0m\u001b[0;34m\u001b[0m\u001b[0m\n\u001b[0;32m---> 64\u001b[0;31m       \u001b[0;32mreturn\u001b[0m \u001b[0mfn\u001b[0m\u001b[0;34m(\u001b[0m\u001b[0;34m*\u001b[0m\u001b[0margs\u001b[0m\u001b[0;34m,\u001b[0m \u001b[0;34m**\u001b[0m\u001b[0mkwargs\u001b[0m\u001b[0;34m)\u001b[0m\u001b[0;34m\u001b[0m\u001b[0;34m\u001b[0m\u001b[0m\n\u001b[0m\u001b[1;32m     65\u001b[0m     \u001b[0;32mexcept\u001b[0m \u001b[0mException\u001b[0m \u001b[0;32mas\u001b[0m \u001b[0me\u001b[0m\u001b[0;34m:\u001b[0m  \u001b[0;31m# pylint: disable=broad-except\u001b[0m\u001b[0;34m\u001b[0m\u001b[0;34m\u001b[0m\u001b[0m\n\u001b[1;32m     66\u001b[0m       \u001b[0mfiltered_tb\u001b[0m \u001b[0;34m=\u001b[0m \u001b[0m_process_traceback_frames\u001b[0m\u001b[0;34m(\u001b[0m\u001b[0me\u001b[0m\u001b[0;34m.\u001b[0m\u001b[0m__traceback__\u001b[0m\u001b[0;34m)\u001b[0m\u001b[0;34m\u001b[0m\u001b[0;34m\u001b[0m\u001b[0m\n",
            "\u001b[0;32m/usr/local/lib/python3.7/dist-packages/keras/engine/base_layer.py\u001b[0m in \u001b[0;36m__call__\u001b[0;34m(self, *args, **kwargs)\u001b[0m\n\u001b[1;32m   1081\u001b[0m         with autocast_variable.enable_auto_cast_variables(\n\u001b[1;32m   1082\u001b[0m             self._compute_dtype_object):\n\u001b[0;32m-> 1083\u001b[0;31m           \u001b[0moutputs\u001b[0m \u001b[0;34m=\u001b[0m \u001b[0mcall_fn\u001b[0m\u001b[0;34m(\u001b[0m\u001b[0minputs\u001b[0m\u001b[0;34m,\u001b[0m \u001b[0;34m*\u001b[0m\u001b[0margs\u001b[0m\u001b[0;34m,\u001b[0m \u001b[0;34m**\u001b[0m\u001b[0mkwargs\u001b[0m\u001b[0;34m)\u001b[0m\u001b[0;34m\u001b[0m\u001b[0;34m\u001b[0m\u001b[0m\n\u001b[0m\u001b[1;32m   1084\u001b[0m \u001b[0;34m\u001b[0m\u001b[0m\n\u001b[1;32m   1085\u001b[0m         \u001b[0;32mif\u001b[0m \u001b[0mself\u001b[0m\u001b[0;34m.\u001b[0m\u001b[0m_activity_regularizer\u001b[0m\u001b[0;34m:\u001b[0m\u001b[0;34m\u001b[0m\u001b[0;34m\u001b[0m\u001b[0m\n",
            "\u001b[0;32m/usr/local/lib/python3.7/dist-packages/keras/utils/traceback_utils.py\u001b[0m in \u001b[0;36merror_handler\u001b[0;34m(*args, **kwargs)\u001b[0m\n\u001b[1;32m     90\u001b[0m     \u001b[0mbound_signature\u001b[0m \u001b[0;34m=\u001b[0m \u001b[0;32mNone\u001b[0m\u001b[0;34m\u001b[0m\u001b[0;34m\u001b[0m\u001b[0m\n\u001b[1;32m     91\u001b[0m     \u001b[0;32mtry\u001b[0m\u001b[0;34m:\u001b[0m\u001b[0;34m\u001b[0m\u001b[0;34m\u001b[0m\u001b[0m\n\u001b[0;32m---> 92\u001b[0;31m       \u001b[0;32mreturn\u001b[0m \u001b[0mfn\u001b[0m\u001b[0;34m(\u001b[0m\u001b[0;34m*\u001b[0m\u001b[0margs\u001b[0m\u001b[0;34m,\u001b[0m \u001b[0;34m**\u001b[0m\u001b[0mkwargs\u001b[0m\u001b[0;34m)\u001b[0m\u001b[0;34m\u001b[0m\u001b[0;34m\u001b[0m\u001b[0m\n\u001b[0m\u001b[1;32m     93\u001b[0m     \u001b[0;32mexcept\u001b[0m \u001b[0mException\u001b[0m \u001b[0;32mas\u001b[0m \u001b[0me\u001b[0m\u001b[0;34m:\u001b[0m  \u001b[0;31m# pylint: disable=broad-except\u001b[0m\u001b[0;34m\u001b[0m\u001b[0;34m\u001b[0m\u001b[0m\n\u001b[1;32m     94\u001b[0m       \u001b[0;32mif\u001b[0m \u001b[0mhasattr\u001b[0m\u001b[0;34m(\u001b[0m\u001b[0me\u001b[0m\u001b[0;34m,\u001b[0m \u001b[0;34m'_keras_call_info_injected'\u001b[0m\u001b[0;34m)\u001b[0m\u001b[0;34m:\u001b[0m\u001b[0;34m\u001b[0m\u001b[0;34m\u001b[0m\u001b[0m\n",
            "\u001b[0;32m/usr/local/lib/python3.7/dist-packages/tensorflow_hub/keras_layer.py\u001b[0m in \u001b[0;36mcall\u001b[0;34m(self, inputs, training)\u001b[0m\n\u001b[1;32m    237\u001b[0m       result = smart_cond.smart_cond(training,\n\u001b[1;32m    238\u001b[0m                                      \u001b[0;32mlambda\u001b[0m\u001b[0;34m:\u001b[0m \u001b[0mf\u001b[0m\u001b[0;34m(\u001b[0m\u001b[0mtraining\u001b[0m\u001b[0;34m=\u001b[0m\u001b[0;32mTrue\u001b[0m\u001b[0;34m)\u001b[0m\u001b[0;34m,\u001b[0m\u001b[0;34m\u001b[0m\u001b[0;34m\u001b[0m\u001b[0m\n\u001b[0;32m--> 239\u001b[0;31m                                      lambda: f(training=False))\n\u001b[0m\u001b[1;32m    240\u001b[0m \u001b[0;34m\u001b[0m\u001b[0m\n\u001b[1;32m    241\u001b[0m     \u001b[0;31m# Unwrap dicts returned by signatures.\u001b[0m\u001b[0;34m\u001b[0m\u001b[0;34m\u001b[0m\u001b[0;34m\u001b[0m\u001b[0m\n",
            "\u001b[0;32m/usr/local/lib/python3.7/dist-packages/tensorflow/python/framework/smart_cond.py\u001b[0m in \u001b[0;36msmart_cond\u001b[0;34m(pred, true_fn, false_fn, name)\u001b[0m\n\u001b[1;32m     57\u001b[0m       \u001b[0;32mreturn\u001b[0m \u001b[0mtrue_fn\u001b[0m\u001b[0;34m(\u001b[0m\u001b[0;34m)\u001b[0m\u001b[0;34m\u001b[0m\u001b[0;34m\u001b[0m\u001b[0m\n\u001b[1;32m     58\u001b[0m     \u001b[0;32melse\u001b[0m\u001b[0;34m:\u001b[0m\u001b[0;34m\u001b[0m\u001b[0;34m\u001b[0m\u001b[0m\n\u001b[0;32m---> 59\u001b[0;31m       \u001b[0;32mreturn\u001b[0m \u001b[0mfalse_fn\u001b[0m\u001b[0;34m(\u001b[0m\u001b[0;34m)\u001b[0m\u001b[0;34m\u001b[0m\u001b[0;34m\u001b[0m\u001b[0m\n\u001b[0m\u001b[1;32m     60\u001b[0m   \u001b[0;32melse\u001b[0m\u001b[0;34m:\u001b[0m\u001b[0;34m\u001b[0m\u001b[0;34m\u001b[0m\u001b[0m\n\u001b[1;32m     61\u001b[0m     return control_flow_ops.cond(pred, true_fn=true_fn, false_fn=false_fn,\n",
            "\u001b[0;32m/usr/local/lib/python3.7/dist-packages/tensorflow_hub/keras_layer.py\u001b[0m in \u001b[0;36m<lambda>\u001b[0;34m()\u001b[0m\n\u001b[1;32m    237\u001b[0m       result = smart_cond.smart_cond(training,\n\u001b[1;32m    238\u001b[0m                                      \u001b[0;32mlambda\u001b[0m\u001b[0;34m:\u001b[0m \u001b[0mf\u001b[0m\u001b[0;34m(\u001b[0m\u001b[0mtraining\u001b[0m\u001b[0;34m=\u001b[0m\u001b[0;32mTrue\u001b[0m\u001b[0;34m)\u001b[0m\u001b[0;34m,\u001b[0m\u001b[0;34m\u001b[0m\u001b[0;34m\u001b[0m\u001b[0m\n\u001b[0;32m--> 239\u001b[0;31m                                      lambda: f(training=False))\n\u001b[0m\u001b[1;32m    240\u001b[0m \u001b[0;34m\u001b[0m\u001b[0m\n\u001b[1;32m    241\u001b[0m     \u001b[0;31m# Unwrap dicts returned by signatures.\u001b[0m\u001b[0;34m\u001b[0m\u001b[0;34m\u001b[0m\u001b[0;34m\u001b[0m\u001b[0m\n",
            "\u001b[0;32m/usr/local/lib/python3.7/dist-packages/tensorflow/python/saved_model/load.py\u001b[0m in \u001b[0;36m_call_attribute\u001b[0;34m(instance, *args, **kwargs)\u001b[0m\n\u001b[1;32m    699\u001b[0m \u001b[0;34m\u001b[0m\u001b[0m\n\u001b[1;32m    700\u001b[0m \u001b[0;32mdef\u001b[0m \u001b[0m_call_attribute\u001b[0m\u001b[0;34m(\u001b[0m\u001b[0minstance\u001b[0m\u001b[0;34m,\u001b[0m \u001b[0;34m*\u001b[0m\u001b[0margs\u001b[0m\u001b[0;34m,\u001b[0m \u001b[0;34m**\u001b[0m\u001b[0mkwargs\u001b[0m\u001b[0;34m)\u001b[0m\u001b[0;34m:\u001b[0m\u001b[0;34m\u001b[0m\u001b[0;34m\u001b[0m\u001b[0m\n\u001b[0;32m--> 701\u001b[0;31m   \u001b[0;32mreturn\u001b[0m \u001b[0minstance\u001b[0m\u001b[0;34m.\u001b[0m\u001b[0m__call__\u001b[0m\u001b[0;34m(\u001b[0m\u001b[0;34m*\u001b[0m\u001b[0margs\u001b[0m\u001b[0;34m,\u001b[0m \u001b[0;34m**\u001b[0m\u001b[0mkwargs\u001b[0m\u001b[0;34m)\u001b[0m\u001b[0;34m\u001b[0m\u001b[0;34m\u001b[0m\u001b[0m\n\u001b[0m\u001b[1;32m    702\u001b[0m \u001b[0;34m\u001b[0m\u001b[0m\n\u001b[1;32m    703\u001b[0m \u001b[0;34m\u001b[0m\u001b[0m\n",
            "\u001b[0;32m/usr/local/lib/python3.7/dist-packages/tensorflow/python/util/traceback_utils.py\u001b[0m in \u001b[0;36merror_handler\u001b[0;34m(*args, **kwargs)\u001b[0m\n\u001b[1;32m    148\u001b[0m     \u001b[0mfiltered_tb\u001b[0m \u001b[0;34m=\u001b[0m \u001b[0;32mNone\u001b[0m\u001b[0;34m\u001b[0m\u001b[0;34m\u001b[0m\u001b[0m\n\u001b[1;32m    149\u001b[0m     \u001b[0;32mtry\u001b[0m\u001b[0;34m:\u001b[0m\u001b[0;34m\u001b[0m\u001b[0;34m\u001b[0m\u001b[0m\n\u001b[0;32m--> 150\u001b[0;31m       \u001b[0;32mreturn\u001b[0m \u001b[0mfn\u001b[0m\u001b[0;34m(\u001b[0m\u001b[0;34m*\u001b[0m\u001b[0margs\u001b[0m\u001b[0;34m,\u001b[0m \u001b[0;34m**\u001b[0m\u001b[0mkwargs\u001b[0m\u001b[0;34m)\u001b[0m\u001b[0;34m\u001b[0m\u001b[0;34m\u001b[0m\u001b[0m\n\u001b[0m\u001b[1;32m    151\u001b[0m     \u001b[0;32mexcept\u001b[0m \u001b[0mException\u001b[0m \u001b[0;32mas\u001b[0m \u001b[0me\u001b[0m\u001b[0;34m:\u001b[0m\u001b[0;34m\u001b[0m\u001b[0;34m\u001b[0m\u001b[0m\n\u001b[1;32m    152\u001b[0m       \u001b[0mfiltered_tb\u001b[0m \u001b[0;34m=\u001b[0m \u001b[0m_process_traceback_frames\u001b[0m\u001b[0;34m(\u001b[0m\u001b[0me\u001b[0m\u001b[0;34m.\u001b[0m\u001b[0m__traceback__\u001b[0m\u001b[0;34m)\u001b[0m\u001b[0;34m\u001b[0m\u001b[0;34m\u001b[0m\u001b[0m\n",
            "\u001b[0;32m/usr/local/lib/python3.7/dist-packages/tensorflow/python/eager/def_function.py\u001b[0m in \u001b[0;36m__call__\u001b[0;34m(self, *args, **kwds)\u001b[0m\n\u001b[1;32m    908\u001b[0m \u001b[0;34m\u001b[0m\u001b[0m\n\u001b[1;32m    909\u001b[0m       \u001b[0;32mwith\u001b[0m \u001b[0mOptionalXlaContext\u001b[0m\u001b[0;34m(\u001b[0m\u001b[0mself\u001b[0m\u001b[0;34m.\u001b[0m\u001b[0m_jit_compile\u001b[0m\u001b[0;34m)\u001b[0m\u001b[0;34m:\u001b[0m\u001b[0;34m\u001b[0m\u001b[0;34m\u001b[0m\u001b[0m\n\u001b[0;32m--> 910\u001b[0;31m         \u001b[0mresult\u001b[0m \u001b[0;34m=\u001b[0m \u001b[0mself\u001b[0m\u001b[0;34m.\u001b[0m\u001b[0m_call\u001b[0m\u001b[0;34m(\u001b[0m\u001b[0;34m*\u001b[0m\u001b[0margs\u001b[0m\u001b[0;34m,\u001b[0m \u001b[0;34m**\u001b[0m\u001b[0mkwds\u001b[0m\u001b[0;34m)\u001b[0m\u001b[0;34m\u001b[0m\u001b[0;34m\u001b[0m\u001b[0m\n\u001b[0m\u001b[1;32m    911\u001b[0m \u001b[0;34m\u001b[0m\u001b[0m\n\u001b[1;32m    912\u001b[0m       \u001b[0mnew_tracing_count\u001b[0m \u001b[0;34m=\u001b[0m \u001b[0mself\u001b[0m\u001b[0;34m.\u001b[0m\u001b[0mexperimental_get_tracing_count\u001b[0m\u001b[0;34m(\u001b[0m\u001b[0;34m)\u001b[0m\u001b[0;34m\u001b[0m\u001b[0;34m\u001b[0m\u001b[0m\n",
            "\u001b[0;32m/usr/local/lib/python3.7/dist-packages/tensorflow/python/eager/def_function.py\u001b[0m in \u001b[0;36m_call\u001b[0;34m(self, *args, **kwds)\u001b[0m\n\u001b[1;32m    947\u001b[0m       \u001b[0;31m# In this case we have not created variables on the first call. So we can\u001b[0m\u001b[0;34m\u001b[0m\u001b[0;34m\u001b[0m\u001b[0;34m\u001b[0m\u001b[0m\n\u001b[1;32m    948\u001b[0m       \u001b[0;31m# run the first trace but we should fail if variables are created.\u001b[0m\u001b[0;34m\u001b[0m\u001b[0;34m\u001b[0m\u001b[0;34m\u001b[0m\u001b[0m\n\u001b[0;32m--> 949\u001b[0;31m       \u001b[0mresults\u001b[0m \u001b[0;34m=\u001b[0m \u001b[0mself\u001b[0m\u001b[0;34m.\u001b[0m\u001b[0m_stateful_fn\u001b[0m\u001b[0;34m(\u001b[0m\u001b[0;34m*\u001b[0m\u001b[0margs\u001b[0m\u001b[0;34m,\u001b[0m \u001b[0;34m**\u001b[0m\u001b[0mkwds\u001b[0m\u001b[0;34m)\u001b[0m\u001b[0;34m\u001b[0m\u001b[0;34m\u001b[0m\u001b[0m\n\u001b[0m\u001b[1;32m    950\u001b[0m       \u001b[0;32mif\u001b[0m \u001b[0mself\u001b[0m\u001b[0;34m.\u001b[0m\u001b[0m_created_variables\u001b[0m \u001b[0;32mand\u001b[0m \u001b[0;32mnot\u001b[0m \u001b[0mALLOW_DYNAMIC_VARIABLE_CREATION\u001b[0m\u001b[0;34m:\u001b[0m\u001b[0;34m\u001b[0m\u001b[0;34m\u001b[0m\u001b[0m\n\u001b[1;32m    951\u001b[0m         raise ValueError(\"Creating variables on a non-first call to a function\"\n",
            "\u001b[0;32m/usr/local/lib/python3.7/dist-packages/tensorflow/python/eager/function.py\u001b[0m in \u001b[0;36m__call__\u001b[0;34m(self, *args, **kwargs)\u001b[0m\n\u001b[1;32m   3129\u001b[0m        filtered_flat_args) = self._maybe_define_function(args, kwargs)\n\u001b[1;32m   3130\u001b[0m     return graph_function._call_flat(\n\u001b[0;32m-> 3131\u001b[0;31m         filtered_flat_args, captured_inputs=graph_function.captured_inputs)  # pylint: disable=protected-access\n\u001b[0m\u001b[1;32m   3132\u001b[0m \u001b[0;34m\u001b[0m\u001b[0m\n\u001b[1;32m   3133\u001b[0m   \u001b[0;34m@\u001b[0m\u001b[0mproperty\u001b[0m\u001b[0;34m\u001b[0m\u001b[0;34m\u001b[0m\u001b[0m\n",
            "\u001b[0;32m/usr/local/lib/python3.7/dist-packages/tensorflow/python/eager/function.py\u001b[0m in \u001b[0;36m_call_flat\u001b[0;34m(self, args, captured_inputs, cancellation_manager)\u001b[0m\n\u001b[1;32m   1958\u001b[0m       \u001b[0;31m# No tape is watching; skip to running the function.\u001b[0m\u001b[0;34m\u001b[0m\u001b[0;34m\u001b[0m\u001b[0;34m\u001b[0m\u001b[0m\n\u001b[1;32m   1959\u001b[0m       return self._build_call_outputs(self._inference_function.call(\n\u001b[0;32m-> 1960\u001b[0;31m           ctx, args, cancellation_manager=cancellation_manager))\n\u001b[0m\u001b[1;32m   1961\u001b[0m     forward_backward = self._select_forward_and_backward_functions(\n\u001b[1;32m   1962\u001b[0m         \u001b[0margs\u001b[0m\u001b[0;34m,\u001b[0m\u001b[0;34m\u001b[0m\u001b[0;34m\u001b[0m\u001b[0m\n",
            "\u001b[0;32m/usr/local/lib/python3.7/dist-packages/tensorflow/python/eager/function.py\u001b[0m in \u001b[0;36mcall\u001b[0;34m(self, ctx, args, cancellation_manager)\u001b[0m\n\u001b[1;32m    601\u001b[0m               \u001b[0minputs\u001b[0m\u001b[0;34m=\u001b[0m\u001b[0margs\u001b[0m\u001b[0;34m,\u001b[0m\u001b[0;34m\u001b[0m\u001b[0;34m\u001b[0m\u001b[0m\n\u001b[1;32m    602\u001b[0m               \u001b[0mattrs\u001b[0m\u001b[0;34m=\u001b[0m\u001b[0mattrs\u001b[0m\u001b[0;34m,\u001b[0m\u001b[0;34m\u001b[0m\u001b[0;34m\u001b[0m\u001b[0m\n\u001b[0;32m--> 603\u001b[0;31m               ctx=ctx)\n\u001b[0m\u001b[1;32m    604\u001b[0m         \u001b[0;32melse\u001b[0m\u001b[0;34m:\u001b[0m\u001b[0;34m\u001b[0m\u001b[0;34m\u001b[0m\u001b[0m\n\u001b[1;32m    605\u001b[0m           outputs = execute.execute_with_cancellation(\n",
            "\u001b[0;32m/usr/local/lib/python3.7/dist-packages/tensorflow/python/eager/execute.py\u001b[0m in \u001b[0;36mquick_execute\u001b[0;34m(op_name, num_outputs, inputs, attrs, ctx, name)\u001b[0m\n\u001b[1;32m     57\u001b[0m     \u001b[0mctx\u001b[0m\u001b[0;34m.\u001b[0m\u001b[0mensure_initialized\u001b[0m\u001b[0;34m(\u001b[0m\u001b[0;34m)\u001b[0m\u001b[0;34m\u001b[0m\u001b[0;34m\u001b[0m\u001b[0m\n\u001b[1;32m     58\u001b[0m     tensors = pywrap_tfe.TFE_Py_Execute(ctx._handle, device_name, op_name,\n\u001b[0;32m---> 59\u001b[0;31m                                         inputs, attrs, num_outputs)\n\u001b[0m\u001b[1;32m     60\u001b[0m   \u001b[0;32mexcept\u001b[0m \u001b[0mcore\u001b[0m\u001b[0;34m.\u001b[0m\u001b[0m_NotOkStatusException\u001b[0m \u001b[0;32mas\u001b[0m \u001b[0me\u001b[0m\u001b[0;34m:\u001b[0m\u001b[0;34m\u001b[0m\u001b[0;34m\u001b[0m\u001b[0m\n\u001b[1;32m     61\u001b[0m     \u001b[0;32mif\u001b[0m \u001b[0mname\u001b[0m \u001b[0;32mis\u001b[0m \u001b[0;32mnot\u001b[0m \u001b[0;32mNone\u001b[0m\u001b[0;34m:\u001b[0m\u001b[0;34m\u001b[0m\u001b[0;34m\u001b[0m\u001b[0m\n",
            "\u001b[0;31mKeyboardInterrupt\u001b[0m: "
          ]
        }
      ]
    },
    {
      "cell_type": "code",
      "source": [
        "def yield_batches_2():\n",
        "    a = np.load('/content/drive/MyDrive/embeddings/em_{}.npy'.format(0))\n",
        "    b = np.array(train.target[0:1024])\n",
        "\n",
        "    for i in range(1, 30):\n",
        "        ar = np.load('/content/drive/MyDrive/embeddings/em_{}.npy'.format(i))\n",
        "        a = np.concatenate([a, ar])\n",
        "        b = np.concatenate([b, np.array(train.target[1024*i:1024*(i+1)])])\n",
        "\n",
        "\n",
        "    return a, b"
      ],
      "metadata": {
        "id": "IC8niWGKxZ7O"
      },
      "execution_count": null,
      "outputs": []
    },
    {
      "cell_type": "code",
      "source": [
        "train_emb, train_y = yield_batches_2()"
      ],
      "metadata": {
        "id": "7pBtVsDDD96_"
      },
      "execution_count": null,
      "outputs": []
    },
    {
      "cell_type": "code",
      "source": [
        "np.save('/content/drive/MyDrive/embeddings/train_embeddings', train_emb)"
      ],
      "metadata": {
        "id": "-BnDhv7k-CRo"
      },
      "execution_count": null,
      "outputs": []
    },
    {
      "cell_type": "code",
      "source": [
        "train_emb = train_emb.reshape(307200, 768)"
      ],
      "metadata": {
        "id": "bDsE-B1zsLad"
      },
      "execution_count": null,
      "outputs": []
    },
    {
      "cell_type": "code",
      "source": [
        "train_y = stretch(train_y)"
      ],
      "metadata": {
        "id": "x_6FETfj0YPR"
      },
      "execution_count": null,
      "outputs": []
    },
    {
      "cell_type": "code",
      "source": [
        "model = Sequential()\n",
        "model.add(Dense(768, input_shape=(768,), activation='elu'))\n",
        "model.add(Dense(512, activation='elu'))\n",
        "model.add(Dense(512, activation='elu'))\n",
        "model.add(Dense(256, activation='elu'))\n",
        "model.add(Dense(128, activation='elu'))\n",
        "keras.layers.Dropout(rate=0.2) \n",
        "model.add(Dense(128, activation='elu'))\n",
        "model.add(Dense(64, activation='elu'))\n",
        "model.add(Dense(16, activation='elu'))\n",
        "model.add(Dense(1, activation='elu'))\n",
        "\n",
        "adam_optimizer = tf.keras.optimizers.Adam(learning_rate=0.0001)\n",
        "\n",
        "model.compile(\n",
        "    optimizer=adam_optimizer,\n",
        "    loss=tf.keras.losses.MeanAbsoluteError(\n",
        "    reduction=\"auto\", name=\"mean_absolute_error\"),\n",
        ")"
      ],
      "metadata": {
        "id": "Cxhq_RnMmp1X"
      },
      "execution_count": null,
      "outputs": []
    },
    {
      "cell_type": "code",
      "source": [
        "checkpoint_path = \"/content/drive/MyDrive/colab/Checkpoints/cp2.ckpt\"\n",
        "checkpoint_dir = os.path.dirname(checkpoint_path)\n",
        "\n",
        "cp_callback = tf.keras.callbacks.ModelCheckpoint(filepath=checkpoint_path,\n",
        "                                                 save_weights_only=True,\n",
        "                                                 verbose=1)"
      ],
      "metadata": {
        "id": "NyVZLrSEnu2c"
      },
      "execution_count": null,
      "outputs": []
    },
    {
      "cell_type": "code",
      "source": [
        "TRAIN_MODEL = True\n",
        "\n",
        "if TRAIN_MODEL:\n",
        "    training_history = model.fit(\n",
        "        train_emb,\n",
        "        train_y,\n",
        "        epochs=100,\n",
        "        callbacks=[cp_callback],\n",
        "        batch_size=64, \n",
        "        validation_split=0.1, \n",
        "        shuffle=True\n",
        "    )"
      ],
      "metadata": {
        "colab": {
          "base_uri": "https://localhost:8080/"
        },
        "id": "BQHZN_JDoZy-",
        "outputId": "c15d64de-1dfa-45f5-9976-a6e56b207f12"
      },
      "execution_count": null,
      "outputs": [
        {
          "output_type": "stream",
          "name": "stdout",
          "text": [
            "Epoch 1/100\n",
            "4313/4320 [============================>.] - ETA: 0s - loss: 0.0335\n",
            "Epoch 00001: saving model to /content/drive/MyDrive/colab/Checkpoints/cp2.ckpt\n",
            "4320/4320 [==============================] - 28s 6ms/step - loss: 0.0335 - val_loss: 0.0274\n",
            "Epoch 2/100\n",
            "4315/4320 [============================>.] - ETA: 0s - loss: 0.0297\n",
            "Epoch 00002: saving model to /content/drive/MyDrive/colab/Checkpoints/cp2.ckpt\n",
            "4320/4320 [==============================] - 22s 5ms/step - loss: 0.0297 - val_loss: 0.0293\n",
            "Epoch 3/100\n",
            "4313/4320 [============================>.] - ETA: 0s - loss: 0.0291\n",
            "Epoch 00003: saving model to /content/drive/MyDrive/colab/Checkpoints/cp2.ckpt\n",
            "4320/4320 [==============================] - 22s 5ms/step - loss: 0.0291 - val_loss: 0.0326\n",
            "Epoch 4/100\n",
            "4320/4320 [==============================] - ETA: 0s - loss: 0.0287\n",
            "Epoch 00004: saving model to /content/drive/MyDrive/colab/Checkpoints/cp2.ckpt\n",
            "4320/4320 [==============================] - 25s 6ms/step - loss: 0.0287 - val_loss: 0.0257\n",
            "Epoch 5/100\n",
            "4312/4320 [============================>.] - ETA: 0s - loss: 0.0285\n",
            "Epoch 00005: saving model to /content/drive/MyDrive/colab/Checkpoints/cp2.ckpt\n",
            "4320/4320 [==============================] - 23s 5ms/step - loss: 0.0285 - val_loss: 0.0260\n",
            "Epoch 6/100\n",
            "4311/4320 [============================>.] - ETA: 0s - loss: 0.0283\n",
            "Epoch 00006: saving model to /content/drive/MyDrive/colab/Checkpoints/cp2.ckpt\n",
            "4320/4320 [==============================] - 22s 5ms/step - loss: 0.0283 - val_loss: 0.0315\n",
            "Epoch 7/100\n",
            "4318/4320 [============================>.] - ETA: 0s - loss: 0.0280\n",
            "Epoch 00007: saving model to /content/drive/MyDrive/colab/Checkpoints/cp2.ckpt\n",
            "4320/4320 [==============================] - 22s 5ms/step - loss: 0.0280 - val_loss: 0.0261\n",
            "Epoch 8/100\n",
            "4319/4320 [============================>.] - ETA: 0s - loss: 0.0278\n",
            "Epoch 00008: saving model to /content/drive/MyDrive/colab/Checkpoints/cp2.ckpt\n",
            "4320/4320 [==============================] - 22s 5ms/step - loss: 0.0278 - val_loss: 0.0298\n",
            "Epoch 9/100\n",
            "4314/4320 [============================>.] - ETA: 0s - loss: 0.0277\n",
            "Epoch 00009: saving model to /content/drive/MyDrive/colab/Checkpoints/cp2.ckpt\n",
            "4320/4320 [==============================] - 22s 5ms/step - loss: 0.0277 - val_loss: 0.0259\n",
            "Epoch 10/100\n",
            "4315/4320 [============================>.] - ETA: 0s - loss: 0.0274\n",
            "Epoch 00010: saving model to /content/drive/MyDrive/colab/Checkpoints/cp2.ckpt\n",
            "4320/4320 [==============================] - 22s 5ms/step - loss: 0.0274 - val_loss: 0.0262\n",
            "Epoch 11/100\n",
            "4318/4320 [============================>.] - ETA: 0s - loss: 0.0272\n",
            "Epoch 00011: saving model to /content/drive/MyDrive/colab/Checkpoints/cp2.ckpt\n",
            "4320/4320 [==============================] - 22s 5ms/step - loss: 0.0272 - val_loss: 0.0283\n",
            "Epoch 12/100\n",
            "4311/4320 [============================>.] - ETA: 0s - loss: 0.0270\n",
            "Epoch 00012: saving model to /content/drive/MyDrive/colab/Checkpoints/cp2.ckpt\n",
            "4320/4320 [==============================] - 22s 5ms/step - loss: 0.0270 - val_loss: 0.0255\n",
            "Epoch 13/100\n",
            "4319/4320 [============================>.] - ETA: 0s - loss: 0.0268\n",
            "Epoch 00013: saving model to /content/drive/MyDrive/colab/Checkpoints/cp2.ckpt\n",
            "4320/4320 [==============================] - 22s 5ms/step - loss: 0.0268 - val_loss: 0.0249\n",
            "Epoch 14/100\n",
            "4318/4320 [============================>.] - ETA: 0s - loss: 0.0265\n",
            "Epoch 00014: saving model to /content/drive/MyDrive/colab/Checkpoints/cp2.ckpt\n",
            "4320/4320 [==============================] - 23s 5ms/step - loss: 0.0265 - val_loss: 0.0259\n",
            "Epoch 15/100\n",
            "4313/4320 [============================>.] - ETA: 0s - loss: 0.0263\n",
            "Epoch 00015: saving model to /content/drive/MyDrive/colab/Checkpoints/cp2.ckpt\n",
            "4320/4320 [==============================] - 23s 5ms/step - loss: 0.0263 - val_loss: 0.0259\n",
            "Epoch 16/100\n",
            "4314/4320 [============================>.] - ETA: 0s - loss: 0.0260\n",
            "Epoch 00016: saving model to /content/drive/MyDrive/colab/Checkpoints/cp2.ckpt\n",
            "4320/4320 [==============================] - 22s 5ms/step - loss: 0.0260 - val_loss: 0.0261\n",
            "Epoch 17/100\n",
            "4316/4320 [============================>.] - ETA: 0s - loss: 0.0257\n",
            "Epoch 00017: saving model to /content/drive/MyDrive/colab/Checkpoints/cp2.ckpt\n",
            "4320/4320 [==============================] - 22s 5ms/step - loss: 0.0257 - val_loss: 0.0246\n",
            "Epoch 18/100\n",
            "4319/4320 [============================>.] - ETA: 0s - loss: 0.0254\n",
            "Epoch 00018: saving model to /content/drive/MyDrive/colab/Checkpoints/cp2.ckpt\n",
            "4320/4320 [==============================] - 23s 5ms/step - loss: 0.0254 - val_loss: 0.0253\n",
            "Epoch 19/100\n",
            "4319/4320 [============================>.] - ETA: 0s - loss: 0.0251\n",
            "Epoch 00019: saving model to /content/drive/MyDrive/colab/Checkpoints/cp2.ckpt\n",
            "4320/4320 [==============================] - 23s 5ms/step - loss: 0.0251 - val_loss: 0.0255\n",
            "Epoch 20/100\n",
            "4311/4320 [============================>.] - ETA: 0s - loss: 0.0248\n",
            "Epoch 00020: saving model to /content/drive/MyDrive/colab/Checkpoints/cp2.ckpt\n",
            "4320/4320 [==============================] - 22s 5ms/step - loss: 0.0248 - val_loss: 0.0253\n",
            "Epoch 21/100\n",
            "4317/4320 [============================>.] - ETA: 0s - loss: 0.0245\n",
            "Epoch 00021: saving model to /content/drive/MyDrive/colab/Checkpoints/cp2.ckpt\n",
            "4320/4320 [==============================] - 23s 5ms/step - loss: 0.0245 - val_loss: 0.0249\n",
            "Epoch 22/100\n",
            "4316/4320 [============================>.] - ETA: 0s - loss: 0.0242\n",
            "Epoch 00022: saving model to /content/drive/MyDrive/colab/Checkpoints/cp2.ckpt\n",
            "4320/4320 [==============================] - 22s 5ms/step - loss: 0.0242 - val_loss: 0.0270\n",
            "Epoch 23/100\n",
            "4312/4320 [============================>.] - ETA: 0s - loss: 0.0239\n",
            "Epoch 00023: saving model to /content/drive/MyDrive/colab/Checkpoints/cp2.ckpt\n",
            "4320/4320 [==============================] - 22s 5ms/step - loss: 0.0239 - val_loss: 0.0257\n",
            "Epoch 24/100\n",
            "4315/4320 [============================>.] - ETA: 0s - loss: 0.0236\n",
            "Epoch 00024: saving model to /content/drive/MyDrive/colab/Checkpoints/cp2.ckpt\n",
            "4320/4320 [==============================] - 21s 5ms/step - loss: 0.0236 - val_loss: 0.0242\n",
            "Epoch 25/100\n",
            "4318/4320 [============================>.] - ETA: 0s - loss: 0.0234\n",
            "Epoch 00025: saving model to /content/drive/MyDrive/colab/Checkpoints/cp2.ckpt\n",
            "4320/4320 [==============================] - 21s 5ms/step - loss: 0.0234 - val_loss: 0.0237\n",
            "Epoch 26/100\n",
            "4317/4320 [============================>.] - ETA: 0s - loss: 0.0232\n",
            "Epoch 00026: saving model to /content/drive/MyDrive/colab/Checkpoints/cp2.ckpt\n",
            "4320/4320 [==============================] - 22s 5ms/step - loss: 0.0232 - val_loss: 0.0245\n",
            "Epoch 27/100\n",
            "4317/4320 [============================>.] - ETA: 0s - loss: 0.0229\n",
            "Epoch 00027: saving model to /content/drive/MyDrive/colab/Checkpoints/cp2.ckpt\n",
            "4320/4320 [==============================] - 22s 5ms/step - loss: 0.0229 - val_loss: 0.0246\n",
            "Epoch 28/100\n",
            "4314/4320 [============================>.] - ETA: 0s - loss: 0.0227\n",
            "Epoch 00028: saving model to /content/drive/MyDrive/colab/Checkpoints/cp2.ckpt\n",
            "4320/4320 [==============================] - 22s 5ms/step - loss: 0.0227 - val_loss: 0.0244\n",
            "Epoch 29/100\n",
            "4314/4320 [============================>.] - ETA: 0s - loss: 0.0224\n",
            "Epoch 00029: saving model to /content/drive/MyDrive/colab/Checkpoints/cp2.ckpt\n",
            "4320/4320 [==============================] - 21s 5ms/step - loss: 0.0224 - val_loss: 0.0260\n",
            "Epoch 30/100\n",
            "4319/4320 [============================>.] - ETA: 0s - loss: 0.0222\n",
            "Epoch 00030: saving model to /content/drive/MyDrive/colab/Checkpoints/cp2.ckpt\n",
            "4320/4320 [==============================] - 22s 5ms/step - loss: 0.0222 - val_loss: 0.0249\n",
            "Epoch 31/100\n",
            "4314/4320 [============================>.] - ETA: 0s - loss: 0.0220\n",
            "Epoch 00031: saving model to /content/drive/MyDrive/colab/Checkpoints/cp2.ckpt\n",
            "4320/4320 [==============================] - 21s 5ms/step - loss: 0.0220 - val_loss: 0.0240\n",
            "Epoch 32/100\n",
            "4319/4320 [============================>.] - ETA: 0s - loss: 0.0218\n",
            "Epoch 00032: saving model to /content/drive/MyDrive/colab/Checkpoints/cp2.ckpt\n",
            "4320/4320 [==============================] - 22s 5ms/step - loss: 0.0218 - val_loss: 0.0248\n",
            "Epoch 33/100\n",
            "4311/4320 [============================>.] - ETA: 0s - loss: 0.0216\n",
            "Epoch 00033: saving model to /content/drive/MyDrive/colab/Checkpoints/cp2.ckpt\n",
            "4320/4320 [==============================] - 21s 5ms/step - loss: 0.0216 - val_loss: 0.0238\n",
            "Epoch 34/100\n",
            "4319/4320 [============================>.] - ETA: 0s - loss: 0.0215\n",
            "Epoch 00034: saving model to /content/drive/MyDrive/colab/Checkpoints/cp2.ckpt\n",
            "4320/4320 [==============================] - 22s 5ms/step - loss: 0.0215 - val_loss: 0.0239\n",
            "Epoch 35/100\n",
            "4317/4320 [============================>.] - ETA: 0s - loss: 0.0213\n",
            "Epoch 00035: saving model to /content/drive/MyDrive/colab/Checkpoints/cp2.ckpt\n",
            "4320/4320 [==============================] - 21s 5ms/step - loss: 0.0213 - val_loss: 0.0239\n",
            "Epoch 36/100\n",
            "4311/4320 [============================>.] - ETA: 0s - loss: 0.0211\n",
            "Epoch 00036: saving model to /content/drive/MyDrive/colab/Checkpoints/cp2.ckpt\n",
            "4320/4320 [==============================] - 22s 5ms/step - loss: 0.0211 - val_loss: 0.0257\n",
            "Epoch 37/100\n",
            "4313/4320 [============================>.] - ETA: 0s - loss: 0.0210\n",
            "Epoch 00037: saving model to /content/drive/MyDrive/colab/Checkpoints/cp2.ckpt\n",
            "4320/4320 [==============================] - 22s 5ms/step - loss: 0.0210 - val_loss: 0.0287\n",
            "Epoch 38/100\n",
            "4312/4320 [============================>.] - ETA: 0s - loss: 0.0209\n",
            "Epoch 00038: saving model to /content/drive/MyDrive/colab/Checkpoints/cp2.ckpt\n",
            "4320/4320 [==============================] - 22s 5ms/step - loss: 0.0209 - val_loss: 0.0242\n",
            "Epoch 39/100\n",
            "4320/4320 [==============================] - ETA: 0s - loss: 0.0207\n",
            "Epoch 00039: saving model to /content/drive/MyDrive/colab/Checkpoints/cp2.ckpt\n",
            "4320/4320 [==============================] - 22s 5ms/step - loss: 0.0207 - val_loss: 0.0242\n",
            "Epoch 40/100\n",
            "4314/4320 [============================>.] - ETA: 0s - loss: 0.0206\n",
            "Epoch 00040: saving model to /content/drive/MyDrive/colab/Checkpoints/cp2.ckpt\n",
            "4320/4320 [==============================] - 21s 5ms/step - loss: 0.0206 - val_loss: 0.0240\n",
            "Epoch 41/100\n",
            "4312/4320 [============================>.] - ETA: 0s - loss: 0.0205\n",
            "Epoch 00041: saving model to /content/drive/MyDrive/colab/Checkpoints/cp2.ckpt\n",
            "4320/4320 [==============================] - 22s 5ms/step - loss: 0.0205 - val_loss: 0.0244\n",
            "Epoch 42/100\n",
            "4320/4320 [==============================] - ETA: 0s - loss: 0.0203\n",
            "Epoch 00042: saving model to /content/drive/MyDrive/colab/Checkpoints/cp2.ckpt\n",
            "4320/4320 [==============================] - 21s 5ms/step - loss: 0.0203 - val_loss: 0.0242\n",
            "Epoch 43/100\n",
            "4315/4320 [============================>.] - ETA: 0s - loss: 0.0202\n",
            "Epoch 00043: saving model to /content/drive/MyDrive/colab/Checkpoints/cp2.ckpt\n",
            "4320/4320 [==============================] - 21s 5ms/step - loss: 0.0202 - val_loss: 0.0258\n",
            "Epoch 44/100\n",
            "4310/4320 [============================>.] - ETA: 0s - loss: 0.0202\n",
            "Epoch 00044: saving model to /content/drive/MyDrive/colab/Checkpoints/cp2.ckpt\n",
            "4320/4320 [==============================] - 21s 5ms/step - loss: 0.0202 - val_loss: 0.0241\n",
            "Epoch 45/100\n",
            "4310/4320 [============================>.] - ETA: 0s - loss: 0.0201\n",
            "Epoch 00045: saving model to /content/drive/MyDrive/colab/Checkpoints/cp2.ckpt\n",
            "4320/4320 [==============================] - 21s 5ms/step - loss: 0.0201 - val_loss: 0.0237\n",
            "Epoch 46/100\n",
            "4310/4320 [============================>.] - ETA: 0s - loss: 0.0200\n",
            "Epoch 00046: saving model to /content/drive/MyDrive/colab/Checkpoints/cp2.ckpt\n",
            "4320/4320 [==============================] - 21s 5ms/step - loss: 0.0200 - val_loss: 0.0262\n",
            "Epoch 47/100\n",
            "4314/4320 [============================>.] - ETA: 0s - loss: 0.0199\n",
            "Epoch 00047: saving model to /content/drive/MyDrive/colab/Checkpoints/cp2.ckpt\n",
            "4320/4320 [==============================] - 22s 5ms/step - loss: 0.0199 - val_loss: 0.0243\n",
            "Epoch 48/100\n",
            "4317/4320 [============================>.] - ETA: 0s - loss: 0.0198\n",
            "Epoch 00048: saving model to /content/drive/MyDrive/colab/Checkpoints/cp2.ckpt\n",
            "4320/4320 [==============================] - 22s 5ms/step - loss: 0.0198 - val_loss: 0.0242\n",
            "Epoch 49/100\n",
            "4315/4320 [============================>.] - ETA: 0s - loss: 0.0197\n",
            "Epoch 00049: saving model to /content/drive/MyDrive/colab/Checkpoints/cp2.ckpt\n",
            "4320/4320 [==============================] - 22s 5ms/step - loss: 0.0197 - val_loss: 0.0243\n",
            "Epoch 50/100\n",
            "4317/4320 [============================>.] - ETA: 0s - loss: 0.0196\n",
            "Epoch 00050: saving model to /content/drive/MyDrive/colab/Checkpoints/cp2.ckpt\n",
            "4320/4320 [==============================] - 22s 5ms/step - loss: 0.0196 - val_loss: 0.0243\n",
            "Epoch 51/100\n",
            "4320/4320 [==============================] - ETA: 0s - loss: 0.0196\n",
            "Epoch 00051: saving model to /content/drive/MyDrive/colab/Checkpoints/cp2.ckpt\n",
            "4320/4320 [==============================] - 22s 5ms/step - loss: 0.0196 - val_loss: 0.0244\n",
            "Epoch 52/100\n",
            "4315/4320 [============================>.] - ETA: 0s - loss: 0.0195\n",
            "Epoch 00052: saving model to /content/drive/MyDrive/colab/Checkpoints/cp2.ckpt\n",
            "4320/4320 [==============================] - 22s 5ms/step - loss: 0.0195 - val_loss: 0.0235\n",
            "Epoch 53/100\n",
            "4317/4320 [============================>.] - ETA: 0s - loss: 0.0194\n",
            "Epoch 00053: saving model to /content/drive/MyDrive/colab/Checkpoints/cp2.ckpt\n",
            "4320/4320 [==============================] - 22s 5ms/step - loss: 0.0194 - val_loss: 0.0240\n",
            "Epoch 54/100\n",
            "4314/4320 [============================>.] - ETA: 0s - loss: 0.0193\n",
            "Epoch 00054: saving model to /content/drive/MyDrive/colab/Checkpoints/cp2.ckpt\n",
            "4320/4320 [==============================] - 22s 5ms/step - loss: 0.0193 - val_loss: 0.0238\n",
            "Epoch 55/100\n",
            "4312/4320 [============================>.] - ETA: 0s - loss: 0.0193\n",
            "Epoch 00055: saving model to /content/drive/MyDrive/colab/Checkpoints/cp2.ckpt\n",
            "4320/4320 [==============================] - 22s 5ms/step - loss: 0.0193 - val_loss: 0.0237\n",
            "Epoch 56/100\n",
            "4314/4320 [============================>.] - ETA: 0s - loss: 0.0192\n",
            "Epoch 00056: saving model to /content/drive/MyDrive/colab/Checkpoints/cp2.ckpt\n",
            "4320/4320 [==============================] - 22s 5ms/step - loss: 0.0192 - val_loss: 0.0240\n",
            "Epoch 57/100\n",
            "4311/4320 [============================>.] - ETA: 0s - loss: 0.0192\n",
            "Epoch 00057: saving model to /content/drive/MyDrive/colab/Checkpoints/cp2.ckpt\n",
            "4320/4320 [==============================] - 22s 5ms/step - loss: 0.0192 - val_loss: 0.0240\n",
            "Epoch 58/100\n",
            "4317/4320 [============================>.] - ETA: 0s - loss: 0.0191\n",
            "Epoch 00058: saving model to /content/drive/MyDrive/colab/Checkpoints/cp2.ckpt\n",
            "4320/4320 [==============================] - 22s 5ms/step - loss: 0.0191 - val_loss: 0.0244\n",
            "Epoch 59/100\n",
            "4313/4320 [============================>.] - ETA: 0s - loss: 0.0191\n",
            "Epoch 00059: saving model to /content/drive/MyDrive/colab/Checkpoints/cp2.ckpt\n",
            "4320/4320 [==============================] - 22s 5ms/step - loss: 0.0191 - val_loss: 0.0243\n",
            "Epoch 60/100\n",
            "4315/4320 [============================>.] - ETA: 0s - loss: 0.0191\n",
            "Epoch 00060: saving model to /content/drive/MyDrive/colab/Checkpoints/cp2.ckpt\n",
            "4320/4320 [==============================] - 22s 5ms/step - loss: 0.0191 - val_loss: 0.0239\n",
            "Epoch 61/100\n",
            "4319/4320 [============================>.] - ETA: 0s - loss: 0.0190\n",
            "Epoch 00061: saving model to /content/drive/MyDrive/colab/Checkpoints/cp2.ckpt\n",
            "4320/4320 [==============================] - 23s 5ms/step - loss: 0.0190 - val_loss: 0.0232\n",
            "Epoch 62/100\n",
            "4312/4320 [============================>.] - ETA: 0s - loss: 0.0189\n",
            "Epoch 00062: saving model to /content/drive/MyDrive/colab/Checkpoints/cp2.ckpt\n",
            "4320/4320 [==============================] - 22s 5ms/step - loss: 0.0189 - val_loss: 0.0232\n",
            "Epoch 63/100\n",
            "4319/4320 [============================>.] - ETA: 0s - loss: 0.0189\n",
            "Epoch 00063: saving model to /content/drive/MyDrive/colab/Checkpoints/cp2.ckpt\n",
            "4320/4320 [==============================] - 22s 5ms/step - loss: 0.0189 - val_loss: 0.0237\n",
            "Epoch 64/100\n",
            "4312/4320 [============================>.] - ETA: 0s - loss: 0.0188\n",
            "Epoch 00064: saving model to /content/drive/MyDrive/colab/Checkpoints/cp2.ckpt\n",
            "4320/4320 [==============================] - 22s 5ms/step - loss: 0.0188 - val_loss: 0.0250\n",
            "Epoch 65/100\n",
            "4318/4320 [============================>.] - ETA: 0s - loss: 0.0188\n",
            "Epoch 00065: saving model to /content/drive/MyDrive/colab/Checkpoints/cp2.ckpt\n",
            "4320/4320 [==============================] - 22s 5ms/step - loss: 0.0188 - val_loss: 0.0236\n",
            "Epoch 66/100\n",
            "4315/4320 [============================>.] - ETA: 0s - loss: 0.0188\n",
            "Epoch 00066: saving model to /content/drive/MyDrive/colab/Checkpoints/cp2.ckpt\n",
            "4320/4320 [==============================] - 22s 5ms/step - loss: 0.0188 - val_loss: 0.0233\n",
            "Epoch 67/100\n",
            "4316/4320 [============================>.] - ETA: 0s - loss: 0.0187\n",
            "Epoch 00067: saving model to /content/drive/MyDrive/colab/Checkpoints/cp2.ckpt\n",
            "4320/4320 [==============================] - 22s 5ms/step - loss: 0.0187 - val_loss: 0.0242\n",
            "Epoch 68/100\n",
            "4319/4320 [============================>.] - ETA: 0s - loss: 0.0187\n",
            "Epoch 00068: saving model to /content/drive/MyDrive/colab/Checkpoints/cp2.ckpt\n",
            "4320/4320 [==============================] - 22s 5ms/step - loss: 0.0187 - val_loss: 0.0233\n",
            "Epoch 69/100\n",
            "4312/4320 [============================>.] - ETA: 0s - loss: 0.0187\n",
            "Epoch 00069: saving model to /content/drive/MyDrive/colab/Checkpoints/cp2.ckpt\n",
            "4320/4320 [==============================] - 22s 5ms/step - loss: 0.0187 - val_loss: 0.0250\n",
            "Epoch 70/100\n",
            "4317/4320 [============================>.] - ETA: 0s - loss: 0.0186\n",
            "Epoch 00070: saving model to /content/drive/MyDrive/colab/Checkpoints/cp2.ckpt\n",
            "4320/4320 [==============================] - 22s 5ms/step - loss: 0.0186 - val_loss: 0.0241\n",
            "Epoch 71/100\n",
            "4320/4320 [==============================] - ETA: 0s - loss: 0.0186\n",
            "Epoch 00071: saving model to /content/drive/MyDrive/colab/Checkpoints/cp2.ckpt\n",
            "4320/4320 [==============================] - 22s 5ms/step - loss: 0.0186 - val_loss: 0.0239\n",
            "Epoch 72/100\n",
            "4314/4320 [============================>.] - ETA: 0s - loss: 0.0185\n",
            "Epoch 00072: saving model to /content/drive/MyDrive/colab/Checkpoints/cp2.ckpt\n",
            "4320/4320 [==============================] - 22s 5ms/step - loss: 0.0185 - val_loss: 0.0230\n",
            "Epoch 73/100\n",
            "4315/4320 [============================>.] - ETA: 0s - loss: 0.0185\n",
            "Epoch 00073: saving model to /content/drive/MyDrive/colab/Checkpoints/cp2.ckpt\n",
            "4320/4320 [==============================] - 23s 5ms/step - loss: 0.0185 - val_loss: 0.0232\n",
            "Epoch 74/100\n",
            "4319/4320 [============================>.] - ETA: 0s - loss: 0.0185\n",
            "Epoch 00074: saving model to /content/drive/MyDrive/colab/Checkpoints/cp2.ckpt\n",
            "4320/4320 [==============================] - 23s 5ms/step - loss: 0.0185 - val_loss: 0.0247\n",
            "Epoch 75/100\n",
            "4319/4320 [============================>.] - ETA: 0s - loss: 0.0185\n",
            "Epoch 00075: saving model to /content/drive/MyDrive/colab/Checkpoints/cp2.ckpt\n",
            "4320/4320 [==============================] - 23s 5ms/step - loss: 0.0185 - val_loss: 0.0234\n",
            "Epoch 76/100\n",
            "4320/4320 [==============================] - ETA: 0s - loss: 0.0184\n",
            "Epoch 00076: saving model to /content/drive/MyDrive/colab/Checkpoints/cp2.ckpt\n",
            "4320/4320 [==============================] - 22s 5ms/step - loss: 0.0184 - val_loss: 0.0239\n",
            "Epoch 77/100\n",
            "4315/4320 [============================>.] - ETA: 0s - loss: 0.0184\n",
            "Epoch 00077: saving model to /content/drive/MyDrive/colab/Checkpoints/cp2.ckpt\n",
            "4320/4320 [==============================] - 23s 5ms/step - loss: 0.0184 - val_loss: 0.0233\n",
            "Epoch 78/100\n",
            "4315/4320 [============================>.] - ETA: 0s - loss: 0.0184\n",
            "Epoch 00078: saving model to /content/drive/MyDrive/colab/Checkpoints/cp2.ckpt\n",
            "4320/4320 [==============================] - 23s 5ms/step - loss: 0.0184 - val_loss: 0.0235\n",
            "Epoch 79/100\n",
            "4319/4320 [============================>.] - ETA: 0s - loss: 0.0183\n",
            "Epoch 00079: saving model to /content/drive/MyDrive/colab/Checkpoints/cp2.ckpt\n",
            "4320/4320 [==============================] - 23s 5ms/step - loss: 0.0183 - val_loss: 0.0239\n",
            "Epoch 80/100\n",
            "4315/4320 [============================>.] - ETA: 0s - loss: 0.0183\n",
            "Epoch 00080: saving model to /content/drive/MyDrive/colab/Checkpoints/cp2.ckpt\n",
            "4320/4320 [==============================] - 23s 5ms/step - loss: 0.0183 - val_loss: 0.0229\n",
            "Epoch 81/100\n",
            "4311/4320 [============================>.] - ETA: 0s - loss: 0.0183\n",
            "Epoch 00081: saving model to /content/drive/MyDrive/colab/Checkpoints/cp2.ckpt\n",
            "4320/4320 [==============================] - 23s 5ms/step - loss: 0.0183 - val_loss: 0.0236\n",
            "Epoch 82/100\n",
            "4318/4320 [============================>.] - ETA: 0s - loss: 0.0183\n",
            "Epoch 00082: saving model to /content/drive/MyDrive/colab/Checkpoints/cp2.ckpt\n",
            "4320/4320 [==============================] - 23s 5ms/step - loss: 0.0183 - val_loss: 0.0241\n",
            "Epoch 83/100\n",
            "4316/4320 [============================>.] - ETA: 0s - loss: 0.0182\n",
            "Epoch 00083: saving model to /content/drive/MyDrive/colab/Checkpoints/cp2.ckpt\n",
            "4320/4320 [==============================] - 23s 5ms/step - loss: 0.0182 - val_loss: 0.0239\n",
            "Epoch 84/100\n",
            "4318/4320 [============================>.] - ETA: 0s - loss: 0.0182\n",
            "Epoch 00084: saving model to /content/drive/MyDrive/colab/Checkpoints/cp2.ckpt\n",
            "4320/4320 [==============================] - 23s 5ms/step - loss: 0.0182 - val_loss: 0.0236\n",
            "Epoch 85/100\n",
            "4314/4320 [============================>.] - ETA: 0s - loss: 0.0182\n",
            "Epoch 00085: saving model to /content/drive/MyDrive/colab/Checkpoints/cp2.ckpt\n",
            "4320/4320 [==============================] - 23s 5ms/step - loss: 0.0182 - val_loss: 0.0245\n",
            "Epoch 86/100\n",
            "4320/4320 [==============================] - ETA: 0s - loss: 0.0181\n",
            "Epoch 00086: saving model to /content/drive/MyDrive/colab/Checkpoints/cp2.ckpt\n",
            "4320/4320 [==============================] - 23s 5ms/step - loss: 0.0181 - val_loss: 0.0235\n",
            "Epoch 87/100\n",
            "4315/4320 [============================>.] - ETA: 0s - loss: 0.0181\n",
            "Epoch 00087: saving model to /content/drive/MyDrive/colab/Checkpoints/cp2.ckpt\n",
            "4320/4320 [==============================] - 23s 5ms/step - loss: 0.0181 - val_loss: 0.0240\n",
            "Epoch 88/100\n",
            "4313/4320 [============================>.] - ETA: 0s - loss: 0.0181\n",
            "Epoch 00088: saving model to /content/drive/MyDrive/colab/Checkpoints/cp2.ckpt\n",
            "4320/4320 [==============================] - 23s 5ms/step - loss: 0.0181 - val_loss: 0.0237\n",
            "Epoch 89/100\n",
            "4315/4320 [============================>.] - ETA: 0s - loss: 0.0181\n",
            "Epoch 00089: saving model to /content/drive/MyDrive/colab/Checkpoints/cp2.ckpt\n",
            "4320/4320 [==============================] - 23s 5ms/step - loss: 0.0181 - val_loss: 0.0237\n",
            "Epoch 90/100\n",
            "4320/4320 [==============================] - ETA: 0s - loss: 0.0181\n",
            "Epoch 00090: saving model to /content/drive/MyDrive/colab/Checkpoints/cp2.ckpt\n",
            "4320/4320 [==============================] - 23s 5ms/step - loss: 0.0181 - val_loss: 0.0230\n",
            "Epoch 91/100\n",
            "4311/4320 [============================>.] - ETA: 0s - loss: 0.0181\n",
            "Epoch 00091: saving model to /content/drive/MyDrive/colab/Checkpoints/cp2.ckpt\n",
            "4320/4320 [==============================] - 23s 5ms/step - loss: 0.0181 - val_loss: 0.0239\n",
            "Epoch 92/100\n",
            "4312/4320 [============================>.] - ETA: 0s - loss: 0.0180\n",
            "Epoch 00092: saving model to /content/drive/MyDrive/colab/Checkpoints/cp2.ckpt\n",
            "4320/4320 [==============================] - 23s 5ms/step - loss: 0.0180 - val_loss: 0.0240\n",
            "Epoch 93/100\n",
            "4320/4320 [==============================] - ETA: 0s - loss: 0.0180\n",
            "Epoch 00093: saving model to /content/drive/MyDrive/colab/Checkpoints/cp2.ckpt\n",
            "4320/4320 [==============================] - 23s 5ms/step - loss: 0.0180 - val_loss: 0.0234\n",
            "Epoch 94/100\n",
            "4320/4320 [==============================] - ETA: 0s - loss: 0.0180\n",
            "Epoch 00094: saving model to /content/drive/MyDrive/colab/Checkpoints/cp2.ckpt\n",
            "4320/4320 [==============================] - 23s 5ms/step - loss: 0.0180 - val_loss: 0.0227\n",
            "Epoch 95/100\n",
            "4319/4320 [============================>.] - ETA: 0s - loss: 0.0180\n",
            "Epoch 00095: saving model to /content/drive/MyDrive/colab/Checkpoints/cp2.ckpt\n",
            "4320/4320 [==============================] - 23s 5ms/step - loss: 0.0180 - val_loss: 0.0243\n",
            "Epoch 96/100\n",
            "4316/4320 [============================>.] - ETA: 0s - loss: 0.0179\n",
            "Epoch 00096: saving model to /content/drive/MyDrive/colab/Checkpoints/cp2.ckpt\n",
            "4320/4320 [==============================] - 23s 5ms/step - loss: 0.0179 - val_loss: 0.0243\n",
            "Epoch 97/100\n",
            "4314/4320 [============================>.] - ETA: 0s - loss: 0.0179\n",
            "Epoch 00097: saving model to /content/drive/MyDrive/colab/Checkpoints/cp2.ckpt\n",
            "4320/4320 [==============================] - 23s 5ms/step - loss: 0.0180 - val_loss: 0.0231\n",
            "Epoch 98/100\n",
            "4313/4320 [============================>.] - ETA: 0s - loss: 0.0179\n",
            "Epoch 00098: saving model to /content/drive/MyDrive/colab/Checkpoints/cp2.ckpt\n",
            "4320/4320 [==============================] - 23s 5ms/step - loss: 0.0179 - val_loss: 0.0238\n",
            "Epoch 99/100\n",
            "4319/4320 [============================>.] - ETA: 0s - loss: 0.0179\n",
            "Epoch 00099: saving model to /content/drive/MyDrive/colab/Checkpoints/cp2.ckpt\n",
            "4320/4320 [==============================] - 23s 5ms/step - loss: 0.0179 - val_loss: 0.0242\n",
            "Epoch 100/100\n",
            "4318/4320 [============================>.] - ETA: 0s - loss: 0.0179\n",
            "Epoch 00100: saving model to /content/drive/MyDrive/colab/Checkpoints/cp2.ckpt\n",
            "4320/4320 [==============================] - 23s 5ms/step - loss: 0.0179 - val_loss: 0.0234\n"
          ]
        }
      ]
    },
    {
      "cell_type": "code",
      "source": [
        "train['error'] = abs(train.target - train.target_prediction)"
      ],
      "metadata": {
        "id": "xdBa_wr6sAAG"
      },
      "execution_count": null,
      "outputs": []
    },
    {
      "cell_type": "code",
      "source": [
        "train.target.std()"
      ],
      "metadata": {
        "colab": {
          "base_uri": "https://localhost:8080/"
        },
        "id": "FkKAsxZrAWU_",
        "outputId": "b0bdb021-5baf-4cf0-e945-09865fd8b832"
      },
      "execution_count": null,
      "outputs": [
        {
          "output_type": "execute_result",
          "data": {
            "text/plain": [
              "0.04027458325922316"
            ]
          },
          "metadata": {},
          "execution_count": 22
        }
      ]
    },
    {
      "cell_type": "code",
      "source": [
        "train.target_prediction.std()"
      ],
      "metadata": {
        "colab": {
          "base_uri": "https://localhost:8080/"
        },
        "id": "C1WvStPdAMHI",
        "outputId": "c7f5629e-9387-439c-8578-b97dac32ccf5"
      },
      "execution_count": null,
      "outputs": [
        {
          "output_type": "execute_result",
          "data": {
            "text/plain": [
              "0.029148858040571213"
            ]
          },
          "metadata": {},
          "execution_count": 23
        }
      ]
    },
    {
      "cell_type": "code",
      "source": [
        "train.error.mean()"
      ],
      "metadata": {
        "colab": {
          "base_uri": "https://localhost:8080/"
        },
        "id": "kP_tUstBArnR",
        "outputId": "35b50ffa-9560-4bd0-dc10-5ca80b1e508d"
      },
      "execution_count": null,
      "outputs": [
        {
          "output_type": "execute_result",
          "data": {
            "text/plain": [
              "0.015533054241359643"
            ]
          },
          "metadata": {},
          "execution_count": 27
        }
      ]
    },
    {
      "cell_type": "code",
      "source": [
        "train.sort_values(by='error', ascending=False)"
      ],
      "metadata": {
        "id": "RMY8eHl39ayn"
      },
      "execution_count": null,
      "outputs": []
    },
    {
      "cell_type": "code",
      "source": [
        "model.load_weights('/content/drive/MyDrive/colab/Checkpoints/cp2.ckpt')"
      ],
      "metadata": {
        "colab": {
          "base_uri": "https://localhost:8080/"
        },
        "id": "1CQgTKoK_jE9",
        "outputId": "72cfbea7-10cc-413d-be0a-b3a48c64cd6a"
      },
      "execution_count": null,
      "outputs": [
        {
          "output_type": "execute_result",
          "data": {
            "text/plain": [
              "<tensorflow.python.training.tracking.util.CheckpointLoadStatus at 0x7f508967db90>"
            ]
          },
          "metadata": {},
          "execution_count": 28
        }
      ]
    },
    {
      "cell_type": "code",
      "source": [
        "train.tags[:10]"
      ],
      "metadata": {
        "colab": {
          "base_uri": "https://localhost:8080/"
        },
        "id": "lBot-rvLCc-o",
        "outputId": "9d7e8f47-5ddd-49b4-9573-3c754f2bffac"
      },
      "execution_count": null,
      "outputs": [
        {
          "output_type": "execute_result",
          "data": {
            "text/plain": [
              "0    [bmw i8, browadis, skits, mama rug and papa ru...\n",
              "1    [Apex Legends game, multiplayer shooter, Apex ...\n",
              "2    [funny memes, funny meme, jacksepticeye memes,...\n",
              "3    [2020 xxl freshman, 2020 freshman, hip-hop, Li...\n",
              "4    [beautiful, Norton, Home title scams, luxuriou...\n",
              "5    [[NONE], Professor injury, professorlive injur...\n",
              "6    [[NONE], [None], [NONE], [NONE], [NONE], [NONE...\n",
              "7    [[NONE], education, [NONE], [NONE], cgpgrey, h...\n",
              "8    [dad, makeup, dream, mom, parents, the baddest...\n",
              "9    [Alta Consigna, Vengo De Nada, Herencia de Pat...\n",
              "Name: tags, dtype: object"
            ]
          },
          "metadata": {},
          "execution_count": 35
        }
      ]
    },
    {
      "cell_type": "code",
      "source": [
        "train"
      ],
      "metadata": {
        "id": "JSYTnCzbCNf2"
      },
      "execution_count": null,
      "outputs": []
    },
    {
      "cell_type": "code",
      "source": [
        "train.tags = train.tags.apply(lambda x: x.split('|')) \n",
        "tags = list(train.tags)\n",
        "tags = list(filter(lambda x: len(x) > 8, tags))\n",
        "len(tags)"
      ],
      "metadata": {
        "colab": {
          "base_uri": "https://localhost:8080/"
        },
        "id": "jigKgTKCDBM3",
        "outputId": "163ac410-9877-42d7-b456-48a19eaec9a9"
      },
      "execution_count": null,
      "outputs": [
        {
          "output_type": "execute_result",
          "data": {
            "text/plain": [
              "63465"
            ]
          },
          "metadata": {},
          "execution_count": 11
        }
      ]
    },
    {
      "cell_type": "code",
      "source": [
        "k_list = []\n",
        "i = 0\n",
        "\n",
        "for video in tags[:100]:\n",
        "    emb = bert_model(bert_preprocess_model(video))\n",
        "    kmeans = KMeans(8).fit(emb['pooled_output'])\n",
        "    k_list.append(kmeans.labels_)\n",
        "    i += 1\n",
        "    if i % 20 == 0:\n",
        "        np.save('/content/drive/MyDrive/colab/k_means_{}'.format(i), k_list)"
      ],
      "metadata": {
        "colab": {
          "base_uri": "https://localhost:8080/"
        },
        "id": "kHwiayw_RVtz",
        "outputId": "a2a8145d-a828-4ab8-ad49-0199c63ba66f"
      },
      "execution_count": null,
      "outputs": [
        {
          "output_type": "stream",
          "name": "stderr",
          "text": [
            "/usr/local/lib/python3.7/dist-packages/numpy/core/_asarray.py:136: VisibleDeprecationWarning: Creating an ndarray from ragged nested sequences (which is a list-or-tuple of lists-or-tuples-or ndarrays with different lengths or shapes) is deprecated. If you meant to do this, you must specify 'dtype=object' when creating the ndarray\n",
            "  return array(a, dtype, copy=False, order=order, subok=True)\n",
            "/usr/local/lib/python3.7/dist-packages/numpy/core/_asarray.py:136: VisibleDeprecationWarning: Creating an ndarray from ragged nested sequences (which is a list-or-tuple of lists-or-tuples-or ndarrays with different lengths or shapes) is deprecated. If you meant to do this, you must specify 'dtype=object' when creating the ndarray\n",
            "  return array(a, dtype, copy=False, order=order, subok=True)\n",
            "/usr/local/lib/python3.7/dist-packages/numpy/core/_asarray.py:136: VisibleDeprecationWarning: Creating an ndarray from ragged nested sequences (which is a list-or-tuple of lists-or-tuples-or ndarrays with different lengths or shapes) is deprecated. If you meant to do this, you must specify 'dtype=object' when creating the ndarray\n",
            "  return array(a, dtype, copy=False, order=order, subok=True)\n",
            "/usr/local/lib/python3.7/dist-packages/numpy/core/_asarray.py:136: VisibleDeprecationWarning: Creating an ndarray from ragged nested sequences (which is a list-or-tuple of lists-or-tuples-or ndarrays with different lengths or shapes) is deprecated. If you meant to do this, you must specify 'dtype=object' when creating the ndarray\n",
            "  return array(a, dtype, copy=False, order=order, subok=True)\n",
            "/usr/local/lib/python3.7/dist-packages/numpy/core/_asarray.py:136: VisibleDeprecationWarning: Creating an ndarray from ragged nested sequences (which is a list-or-tuple of lists-or-tuples-or ndarrays with different lengths or shapes) is deprecated. If you meant to do this, you must specify 'dtype=object' when creating the ndarray\n",
            "  return array(a, dtype, copy=False, order=order, subok=True)\n"
          ]
        }
      ]
    },
    {
      "cell_type": "code",
      "source": [
        ""
      ],
      "metadata": {
        "id": "7lX5wSPiUUFR"
      },
      "execution_count": null,
      "outputs": []
    }
  ],
  "metadata": {
    "colab": {
      "collapsed_sections": [
        "el6gVgtSgiN3",
        "_XvHPK5sjGjD",
        "r90F0P8UlLPg",
        "slHeshLcABmV",
        "kcwuAk0NAWBw"
      ],
      "name": "YouTube",
      "provenance": [],
      "include_colab_link": true
    },
    "kernelspec": {
      "display_name": "Python 3",
      "name": "python3"
    },
    "language_info": {
      "name": "python"
    }
  },
  "nbformat": 4,
  "nbformat_minor": 0
}