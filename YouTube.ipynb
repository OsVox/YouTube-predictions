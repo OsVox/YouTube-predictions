{
  "cells": [
    {
      "cell_type": "markdown",
      "metadata": {
        "id": "view-in-github",
        "colab_type": "text"
      },
      "source": [
        "<a href=\"https://colab.research.google.com/github/OsVox/YouTube-predictions/blob/main/YouTube.ipynb\" target=\"_parent\"><img src=\"https://colab.research.google.com/assets/colab-badge.svg\" alt=\"Open In Colab\"/></a>"
      ]
    },
    {
      "cell_type": "markdown",
      "metadata": {
        "id": "el6gVgtSgiN3"
      },
      "source": [
        "# Importing modules and reading data"
      ]
    },
    {
      "cell_type": "code",
      "execution_count": null,
      "metadata": {
        "id": "4A28O2_Xem5S"
      },
      "outputs": [],
      "source": [
        "!pip install pyyaml h5py -q\n",
        "!pip install tensorflow_text -q\n",
        "# !pip install keras.utils"
      ]
    },
    {
      "cell_type": "code",
      "execution_count": null,
      "metadata": {
        "id": "Fq0LxbaugEqi"
      },
      "outputs": [],
      "source": [
        "import os\n",
        "import gc\n",
        "import re\n",
        "\n",
        "import pandas as pd\n",
        "import numpy as np\n",
        "import matplotlib.pyplot as plt\n",
        "import seaborn as sns\n",
        "import sklearn\n",
        "from sklearn.cluster import KMeans\n",
        "\n",
        "import tensorflow as tf\n",
        "from tensorflow import keras\n",
        "import torch\n",
        "import tensorflow_hub as hub\n",
        "import tensorflow_text as text\n",
        "\n",
        "from tensorflow.keras.models import Sequential\n",
        "from tensorflow.keras import regularizers\n",
        "from keras.layers import LSTM, Dense\n",
        "from keras.utils.vis_utils import plot_model\n",
        "# from transformers import BertTokenizer, BertModel, AutoTokenizer\n",
        "\n",
        "from google.colab import drive\n",
        "mount_directory = \"/content/drive\""
      ]
    },
    {
      "cell_type": "code",
      "execution_count": null,
      "metadata": {
        "id": "KVgXOkRoUcl9"
      },
      "outputs": [],
      "source": [
        "import tensorflow_hub as hub\n",
        "import tensorflow_text as text\n",
        "\n",
        "preprocess_url = \"https://tfhub.dev/tensorflow/bert_en_uncased_preprocess/3\"\n",
        "encoder_url = \"https://tfhub.dev/tensorflow/bert_en_uncased_L-12_H-768_A-12/4\"\n",
        "\n",
        "bert_preprocess_model = hub.KerasLayer(preprocess_url)\n",
        "bert_model = hub.KerasLayer(encoder_url)"
      ]
    },
    {
      "cell_type": "code",
      "execution_count": null,
      "metadata": {
        "id": "_kQ7tUsHTHbH",
        "colab": {
          "base_uri": "https://localhost:8080/"
        },
        "outputId": "cb051cc2-3cb4-4b12-f060-d5b017f1d75b"
      },
      "outputs": [
        {
          "output_type": "stream",
          "name": "stdout",
          "text": [
            "Mounted at /content/gdrive\n"
          ]
        }
      ],
      "source": [
        "from google.colab import drive\n",
        "drive.mount('/content/gdrive')"
      ]
    },
    {
      "cell_type": "code",
      "execution_count": null,
      "metadata": {
        "id": "D3qGP4wxpIPT"
      },
      "outputs": [],
      "source": [
        "test = pd.read_parquet('/content/gdrive/MyDrive/youtube/data/test')\n",
        "train = pd.read_parquet('/content/gdrive/MyDrive/youtube/data/little_train')\n",
        "\n",
        "def save(what=train):\n",
        "    what.to_parquet('/content/gdrive/MyDrive/youtube/data/little_train')"
      ]
    },
    {
      "cell_type": "markdown",
      "metadata": {
        "id": "r90F0P8UlLPg"
      },
      "source": [
        "# Basic secription of data "
      ]
    },
    {
      "cell_type": "markdown",
      "metadata": {
        "id": "j3xQb85eEOWH"
      },
      "source": [
        "## filling null values"
      ]
    },
    {
      "cell_type": "code",
      "execution_count": null,
      "metadata": {
        "id": "6uVGo1Bhmm_i"
      },
      "outputs": [],
      "source": [
        "dfs = [train, test]"
      ]
    },
    {
      "cell_type": "code",
      "execution_count": null,
      "metadata": {
        "id": "tBy4nAHYmmy-"
      },
      "outputs": [],
      "source": [
        "for df in dfs:\n",
        "    df['has_description'] = ~df['description'].isnull()\n",
        "    df.description.fillna('No description', inplace=True)\n",
        "    df.trending_date = pd.to_datetime(df.trending_date)"
      ]
    },
    {
      "cell_type": "markdown",
      "metadata": {
        "id": "N8J5tX7eES_4"
      },
      "source": [
        "## battle with outliers"
      ]
    },
    {
      "cell_type": "code",
      "execution_count": null,
      "metadata": {
        "id": "KdHozS-0EY0d"
      },
      "outputs": [],
      "source": [
        "train['log_target'] = np.log(train.target)"
      ]
    },
    {
      "cell_type": "code",
      "execution_count": null,
      "metadata": {
        "id": "dG7Y7aGNGD3s"
      },
      "outputs": [],
      "source": [
        "lower_bound = train.log_target.quantile(0.55) - 1.5 * (train.log_target.quantile(0.75) - train.log_target.quantile(0.25)) \n",
        "upper_bound = train.log_target.quantile(0.70) + 1.5 * (train.log_target.quantile(0.75) - train.log_target.quantile(0.25)) \n",
        "train = train[(train.log_target > lower_bound) & (train.log_target < upper_bound)].reset_index(drop=True)\n",
        "save()"
      ]
    },
    {
      "cell_type": "markdown",
      "metadata": {
        "id": "k0hhZf3fHv2U"
      },
      "source": [
        "# Using BERT to deal with titles, descriptions and tags"
      ]
    },
    {
      "cell_type": "markdown",
      "metadata": {
        "id": "slHeshLcABmV"
      },
      "source": [
        "## Making embeddings"
      ]
    },
    {
      "cell_type": "code",
      "execution_count": null,
      "metadata": {
        "id": "QQDDLTRAjGpx"
      },
      "outputs": [],
      "source": [
        "MAKE_EMB = False\n",
        "if MAKE_EMB:\n",
        "    for i in range(0, len(titles) // 1024 + 1):\n",
        "        np.save('/content/gdrive/MyDrive/youtube/titles embeddings/em_{}'.format(i), \\\n",
        "                bert_model(bert_preprocess_model(titles[1024*i : 1024*(i + 1)])) \\\n",
        "                ['pooled_output'].numpy())\n",
        "        gc.collect()\n",
        "\n",
        "    train_emb = np.concatenate([np.load('/content/drive/MyDrive/youtube/titles embeddings/em_{}.npy'.format(i)) for i in range(81)])\n",
        "    np.save('/content/drive/MyDrive/youtube/titles embeddings/train_emb', train_emb)"
      ]
    },
    {
      "cell_type": "markdown",
      "metadata": {
        "id": "kcwuAk0NAWBw"
      },
      "source": [
        "## Creating model"
      ]
    },
    {
      "cell_type": "code",
      "execution_count": null,
      "metadata": {
        "id": "i85nP4tohliY"
      },
      "outputs": [],
      "source": [
        "train_emb = np.load('/content/drive/MyDrive/youtube/titles embeddings/train_emb.npy')\n",
        "train_y = np.array(train.target)"
      ]
    },
    {
      "cell_type": "code",
      "execution_count": null,
      "metadata": {
        "id": "SRoNqxSY2t5y"
      },
      "outputs": [],
      "source": [
        "model = Sequential()\n",
        "model.add(Dense(768, input_shape=(768,), activation='elu'))\n",
        "model.add(Dense(1024, activation='elu'))\n",
        "model.add(Dense(512, activation='elu'))\n",
        "keras.layers.Dropout(rate=0.2) \n",
        "model.add(Dense(512, activation='elu'))\n",
        "model.add(Dense(256, activation='elu'))\n",
        "model.add(Dense(128, activation='elu'))\n",
        "keras.layers.Dropout(rate=0.2) \n",
        "model.add(Dense(128, activation='elu'))\n",
        "model.add(Dense(64, activation='elu'))\n",
        "model.add(Dense(16, activation='elu'))\n",
        "model.add(Dense(1, activation='elu'))\n",
        "\n",
        "adam_optimizer = tf.keras.optimizers.Adam(learning_rate=0.00001)\n",
        "\n",
        "model.compile(\n",
        "    optimizer=adam_optimizer,\n",
        "    loss=tf.keras.losses.MeanAbsoluteError(\n",
        "    reduction=\"auto\", name=\"mean_absolute_error\"),\n",
        ")"
      ]
    },
    {
      "cell_type": "code",
      "execution_count": null,
      "metadata": {
        "colab": {
          "base_uri": "https://localhost:8080/"
        },
        "id": "CO1DXoNrZaJT",
        "outputId": "48eacf9b-f866-4d64-89ab-22e58b9240a5"
      },
      "outputs": [
        {
          "name": "stdout",
          "output_type": "stream",
          "text": [
            "Drive already mounted at /content/drive; to attempt to forcibly remount, call drive.mount(\"/content/drive\", force_remount=True).\n"
          ]
        }
      ],
      "source": [
        "USE_GOOGLE_DRIVE = True\n",
        "\n",
        "def mount_google_drive():\n",
        "    drive.mount(mount_directory)\n",
        "    drive_root = mount_directory + \"/\" + list(filter(lambda x: x[0] != '.', os.listdir(mount_directory)))[0] + \"/colab\"\n",
        "    return drive_root\n",
        "\n",
        "CHECKPOINT_ROOT = \"\"\n",
        "if USE_GOOGLE_DRIVE:\n",
        "    import datetime\n",
        "    CHECKPOINT_ROOT = mount_google_drive() + \"/\"\n",
        "\n",
        "def get_checkpoint_path(epoch=None):\n",
        "    if epoch is None:\n",
        "        return os.path.abspath(CHECKPOINT_ROOT + \"weights\")\n",
        "    else:\n",
        "        return os.path.abspath(CHECKPOINT_ROOT + \"weights_{}\".format(epoch))"
      ]
    },
    {
      "cell_type": "code",
      "execution_count": null,
      "metadata": {
        "id": "0GDMtMJNxSJ8"
      },
      "outputs": [],
      "source": [
        "checkpoint_path = \"/content/drive/MyDrive/colab/Checkpoints/cp.cpkt\"\n",
        "checkpoint_dir = os.path.dirname(checkpoint_path)\n",
        "\n",
        "cp_callback = tf.keras.callbacks.ModelCheckpoint(filepath=checkpoint_path,\n",
        "                                                 save_weights_only=True,\n",
        "                                                 verbose=1)"
      ]
    },
    {
      "cell_type": "code",
      "execution_count": null,
      "metadata": {
        "colab": {
          "base_uri": "https://localhost:8080/"
        },
        "id": "iG_5eYf2BlJA",
        "outputId": "be0f9104-4219-42e2-d86e-5a03c6c66ca0"
      },
      "outputs": [
        {
          "data": {
            "text/plain": [
              "<tensorflow.python.training.tracking.util.CheckpointLoadStatus at 0x7f973b6208d0>"
            ]
          },
          "execution_count": 30,
          "metadata": {},
          "output_type": "execute_result"
        }
      ],
      "source": [
        "model.load_weights(\"/content/drive/MyDrive/colab/Checkpoints/cp.cpkt\")"
      ]
    },
    {
      "cell_type": "code",
      "execution_count": null,
      "metadata": {
        "colab": {
          "base_uri": "https://localhost:8080/",
          "height": 282
        },
        "id": "r5rdYy2Qzp_0",
        "outputId": "a2c7767b-6d0a-4858-cade-dbc8505b0e3c"
      },
      "outputs": [
        {
          "data": {
            "text/plain": [
              "<matplotlib.axes._subplots.AxesSubplot at 0x7f973b471750>"
            ]
          },
          "execution_count": 32,
          "metadata": {},
          "output_type": "execute_result"
        },
        {
          "data": {
            "image/png": "[encoded data removed]",
            "text/plain": [
              "<Figure size 432x288 with 1 Axes>"
            ]
          },
          "metadata": {},
          "output_type": "display_data"
        }
      ],
      "source": [
        "train.log_target.hist()"
      ]
    },
    {
      "cell_type": "code",
      "execution_count": null,
      "metadata": {
        "id": "c4Zr2Ktoepz2"
      },
      "outputs": [],
      "source": [
        "TRAIN_MODEL = True\n",
        "\n",
        "if TRAIN_MODEL:\n",
        "    training_history = model.fit(\n",
        "        train_emb,\n",
        "        train_y,\n",
        "        epochs=100,\n",
        "        callbacks=[cp_callback],\n",
        "        batch_size=64, \n",
        "        validation_split=0.1, \n",
        "        shuffle=True\n",
        "    )"
      ]
    },
    {
      "cell_type": "markdown",
      "metadata": {
        "id": "lRuXs-vIWDOn"
      },
      "source": [
        "## making predictions"
      ]
    },
    {
      "cell_type": "code",
      "execution_count": null,
      "metadata": {
        "id": "Eae3yrlqcy5O"
      },
      "outputs": [],
      "source": [
        "def stretch(array):\n",
        "    array = np.array([[element] * 10 for element in array])\n",
        "    return array.reshape(-1)"
      ]
    },
    {
      "cell_type": "code",
      "execution_count": null,
      "metadata": {
        "id": "T5qUf21FwqIg"
      },
      "outputs": [],
      "source": [
        "def delete_repetitions(tags):\n",
        "    lst = []\n",
        "    begginings = []\n",
        "    for tag in tags:\n",
        "        if tag[:5] not in begginings:\n",
        "            lst.append(tag)\n",
        "            begginings.append(tag[:5])\n",
        "        \n",
        "    return lst"
      ]
    },
    {
      "cell_type": "code",
      "execution_count": null,
      "metadata": {
        "id": "KS_lDjHT6TzS"
      },
      "outputs": [],
      "source": [
        "def nonspecial(text):\n",
        "    text = re.sub(\"[^a-zA-Z0-9 ]+\", \"\",text)\n",
        "    if len(text) > 0:\n",
        "        return text"
      ]
    },
    {
      "cell_type": "code",
      "source": [
        "test_tags = test_tags.apply(lambda x: x.split('|'))\n",
        "test_tags = [delete_repetitions(video) for video in test_tags]\n",
        "test_tags = [[nonspecial(tag) for tag in video] for video in test_tags]\n",
        "test_tags = [list(filter(lambda x: x != None, video)) for video in test_tags]"
      ],
      "metadata": {
        "id": "0c62IQ2PvXmK"
      },
      "execution_count": null,
      "outputs": []
    },
    {
      "cell_type": "code",
      "execution_count": null,
      "metadata": {
        "id": "1UG4ra06r9DH"
      },
      "outputs": [],
      "source": [
        "MAKE_EMB = True\n",
        "if MAKE_EMB:\n",
        "    for i in range(251, 500):\n",
        "        np.save('/content/gdrive/MyDrive/youtube/tags embeddings/em_{}'.format(i), \\\n",
        "                bert_model(bert_preprocess_model(reshaped_tags[1024*i : 1024*(i + 1)])) \\\n",
        "                ['pooled_output'].numpy())\n",
        "        gc.collect()"
      ]
    },
    {
      "cell_type": "code",
      "source": [
        "train_y = train_y[:256000]"
      ],
      "metadata": {
        "id": "t126-QCgG3f9"
      },
      "execution_count": null,
      "outputs": []
    },
    {
      "cell_type": "code",
      "source": [
        ""
      ],
      "metadata": {
        "id": "LA5omoVxDRqf"
      },
      "execution_count": null,
      "outputs": []
    }
  ],
  "metadata": {
    "colab": {
      "collapsed_sections": [
        "el6gVgtSgiN3",
        "_XvHPK5sjGjD",
        "r90F0P8UlLPg",
        "slHeshLcABmV",
        "kcwuAk0NAWBw"
      ],
      "name": "YouTube",
      "provenance": [],
      "include_colab_link": true
    },
    "kernelspec": {
      "display_name": "Python 3",
      "name": "python3"
    },
    "language_info": {
      "name": "python"
    }
  },
  "nbformat": 4,
  "nbformat_minor": 0
}